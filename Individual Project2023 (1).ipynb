{
 "cells": [
  {
   "cell_type": "markdown",
   "id": "d1b8c3af-7707-4398-a3eb-61af7c78dadf",
   "metadata": {},
   "source": [
    "# Individual Project"
   ]
  },
  {
   "cell_type": "markdown",
   "id": "ecf6bf18-e504-49c7-a8a4-04c666458ffa",
   "metadata": {},
   "source": [
    "### Import pandas as pd and read the file into a Pandas DataFrame."
   ]
  },
  {
   "cell_type": "code",
   "execution_count": 58,
   "id": "f5a1b75a-cf89-4c3a-b66f-fea0076d382f",
   "metadata": {},
   "outputs": [],
   "source": [
    "import pandas as pd\n",
    "import matplotlib.pyplot as plt\n",
    "import seaborn as sns\n",
    "file_path = 'Data for Individual project - Funnel data.csv'\n",
    "df = pd.read_csv(file_path)"
   ]
  },
  {
   "cell_type": "markdown",
   "id": "61b04b24-d36e-498e-b26f-55ea91b3b9e6",
   "metadata": {},
   "source": [
    "# \"Hypothesis: Identifying which marketing segments - by audience, market, and channel - are most costly, to find opportunities for optimization"
   ]
  },
  {
   "cell_type": "markdown",
   "id": "152c038d-c980-4828-a1ca-457fe1412ef7",
   "metadata": {},
   "source": [
    "### Let's explore the data and see where it takes us"
   ]
  },
  {
   "cell_type": "markdown",
   "id": "e9eab076-ac4c-4463-883e-55ee411d2ba6",
   "metadata": {},
   "source": [
    "### Firstly lets see how many columns and rows we have on the dataset"
   ]
  },
  {
   "cell_type": "code",
   "execution_count": 59,
   "id": "7f46338b-2f9f-4840-8891-405a97d572c1",
   "metadata": {},
   "outputs": [
    {
     "data": {
      "text/plain": [
       "(3017, 15)"
      ]
     },
     "execution_count": 59,
     "metadata": {},
     "output_type": "execute_result"
    }
   ],
   "source": [
    " #returns the number of rows and columns\n",
    "df.shape  "
   ]
  },
  {
   "cell_type": "markdown",
   "id": "29f739eb-69b5-4ca5-85f5-7aaadf7d4f5d",
   "metadata": {},
   "source": [
    "### Now let's have a closer look at the first rows of the dataset"
   ]
  },
  {
   "cell_type": "code",
   "execution_count": 60,
   "id": "8c62fc19-677b-4b96-af34-f1d033626f12",
   "metadata": {},
   "outputs": [
    {
     "data": {
      "text/html": [
       "<div>\n",
       "<style scoped>\n",
       "    .dataframe tbody tr th:only-of-type {\n",
       "        vertical-align: middle;\n",
       "    }\n",
       "\n",
       "    .dataframe tbody tr th {\n",
       "        vertical-align: top;\n",
       "    }\n",
       "\n",
       "    .dataframe thead th {\n",
       "        text-align: right;\n",
       "    }\n",
       "</style>\n",
       "<table border=\"1\" class=\"dataframe\">\n",
       "  <thead>\n",
       "    <tr style=\"text-align: right;\">\n",
       "      <th></th>\n",
       "      <th>Date</th>\n",
       "      <th>Campaign Name</th>\n",
       "      <th>Country Filter</th>\n",
       "      <th>Audience Filter</th>\n",
       "      <th>Channel Filter</th>\n",
       "      <th>Cost (EUR)</th>\n",
       "      <th>Impressions</th>\n",
       "      <th>Reach</th>\n",
       "      <th>CPM (EUR)</th>\n",
       "      <th>Post Engagement (All Objectives)</th>\n",
       "      <th>ER (All Objectives)</th>\n",
       "      <th>CPE (All Objectives) (EUR)</th>\n",
       "      <th>Link Clicks (All Objectives)</th>\n",
       "      <th>CTR (All Objectives)</th>\n",
       "      <th>CPC (All Objectives)</th>\n",
       "    </tr>\n",
       "  </thead>\n",
       "  <tbody>\n",
       "    <tr>\n",
       "      <th>0</th>\n",
       "      <td>2023-10-01</td>\n",
       "      <td>Campaign Name 1</td>\n",
       "      <td>Germany</td>\n",
       "      <td>Audience 1</td>\n",
       "      <td>LinkedIn</td>\n",
       "      <td>68.671772</td>\n",
       "      <td>1263.0</td>\n",
       "      <td>442</td>\n",
       "      <td>54.371949</td>\n",
       "      <td>10.0</td>\n",
       "      <td>0.007918</td>\n",
       "      <td>6.867177</td>\n",
       "      <td>4.0</td>\n",
       "      <td>0.003167</td>\n",
       "      <td>17.1679</td>\n",
       "    </tr>\n",
       "    <tr>\n",
       "      <th>1</th>\n",
       "      <td>2023-10-01</td>\n",
       "      <td>Campaign Name 1</td>\n",
       "      <td>Germany</td>\n",
       "      <td>Audience 2</td>\n",
       "      <td>LinkedIn</td>\n",
       "      <td>54.936552</td>\n",
       "      <td>1231.0</td>\n",
       "      <td>431</td>\n",
       "      <td>44.627581</td>\n",
       "      <td>4.0</td>\n",
       "      <td>0.003249</td>\n",
       "      <td>13.734138</td>\n",
       "      <td>2.0</td>\n",
       "      <td>0.001625</td>\n",
       "      <td>27.4683</td>\n",
       "    </tr>\n",
       "    <tr>\n",
       "      <th>2</th>\n",
       "      <td>2023-10-01</td>\n",
       "      <td>Campaign Name 1</td>\n",
       "      <td>Sweden</td>\n",
       "      <td>Audience 1</td>\n",
       "      <td>LinkedIn</td>\n",
       "      <td>65.649313</td>\n",
       "      <td>1599.0</td>\n",
       "      <td>560</td>\n",
       "      <td>41.056481</td>\n",
       "      <td>11.0</td>\n",
       "      <td>0.006879</td>\n",
       "      <td>5.968119</td>\n",
       "      <td>4.0</td>\n",
       "      <td>0.002502</td>\n",
       "      <td>16.4123</td>\n",
       "    </tr>\n",
       "    <tr>\n",
       "      <th>3</th>\n",
       "      <td>2023-10-01</td>\n",
       "      <td>Campaign Name 1</td>\n",
       "      <td>United Kingdom</td>\n",
       "      <td>Audience 2</td>\n",
       "      <td>LinkedIn</td>\n",
       "      <td>50.936900</td>\n",
       "      <td>1998.0</td>\n",
       "      <td>699</td>\n",
       "      <td>25.493944</td>\n",
       "      <td>6.0</td>\n",
       "      <td>0.003003</td>\n",
       "      <td>8.489483</td>\n",
       "      <td>1.0</td>\n",
       "      <td>0.000501</td>\n",
       "      <td>50.9369</td>\n",
       "    </tr>\n",
       "    <tr>\n",
       "      <th>4</th>\n",
       "      <td>2023-10-01</td>\n",
       "      <td>Campaign Name 1</td>\n",
       "      <td>United Kingdom</td>\n",
       "      <td>Audience 1</td>\n",
       "      <td>LinkedIn</td>\n",
       "      <td>86.505314</td>\n",
       "      <td>3660.0</td>\n",
       "      <td>1281</td>\n",
       "      <td>23.635332</td>\n",
       "      <td>16.0</td>\n",
       "      <td>0.004372</td>\n",
       "      <td>5.406582</td>\n",
       "      <td>5.0</td>\n",
       "      <td>0.001366</td>\n",
       "      <td>17.3011</td>\n",
       "    </tr>\n",
       "  </tbody>\n",
       "</table>\n",
       "</div>"
      ],
      "text/plain": [
       "         Date    Campaign Name  Country Filter Audience Filter Channel Filter  \\\n",
       "0  2023-10-01  Campaign Name 1         Germany      Audience 1       LinkedIn   \n",
       "1  2023-10-01  Campaign Name 1         Germany      Audience 2       LinkedIn   \n",
       "2  2023-10-01  Campaign Name 1          Sweden      Audience 1       LinkedIn   \n",
       "3  2023-10-01  Campaign Name 1  United Kingdom      Audience 2       LinkedIn   \n",
       "4  2023-10-01  Campaign Name 1  United Kingdom      Audience 1       LinkedIn   \n",
       "\n",
       "   Cost (EUR)  Impressions  Reach  CPM (EUR)  \\\n",
       "0   68.671772       1263.0    442  54.371949   \n",
       "1   54.936552       1231.0    431  44.627581   \n",
       "2   65.649313       1599.0    560  41.056481   \n",
       "3   50.936900       1998.0    699  25.493944   \n",
       "4   86.505314       3660.0   1281  23.635332   \n",
       "\n",
       "   Post Engagement (All Objectives)  ER (All Objectives)  \\\n",
       "0                              10.0             0.007918   \n",
       "1                               4.0             0.003249   \n",
       "2                              11.0             0.006879   \n",
       "3                               6.0             0.003003   \n",
       "4                              16.0             0.004372   \n",
       "\n",
       "   CPE (All Objectives) (EUR)  Link Clicks (All Objectives)  \\\n",
       "0                    6.867177                           4.0   \n",
       "1                   13.734138                           2.0   \n",
       "2                    5.968119                           4.0   \n",
       "3                    8.489483                           1.0   \n",
       "4                    5.406582                           5.0   \n",
       "\n",
       "   CTR (All Objectives)  CPC (All Objectives)  \n",
       "0              0.003167               17.1679  \n",
       "1              0.001625               27.4683  \n",
       "2              0.002502               16.4123  \n",
       "3              0.000501               50.9369  \n",
       "4              0.001366               17.3011  "
      ]
     },
     "execution_count": 60,
     "metadata": {},
     "output_type": "execute_result"
    }
   ],
   "source": [
    " #returns the first 5 rows\n",
    "df.head() "
   ]
  },
  {
   "cell_type": "markdown",
   "id": "fb10d18a-ff61-46e1-b390-0d573e955681",
   "metadata": {},
   "source": [
    "### Additionally, let's get some random sample rows for a further first understanding of the data."
   ]
  },
  {
   "cell_type": "code",
   "execution_count": 61,
   "id": "e7721487-b81c-43ed-bf48-25e78edbe7ae",
   "metadata": {},
   "outputs": [
    {
     "data": {
      "text/html": [
       "<div>\n",
       "<style scoped>\n",
       "    .dataframe tbody tr th:only-of-type {\n",
       "        vertical-align: middle;\n",
       "    }\n",
       "\n",
       "    .dataframe tbody tr th {\n",
       "        vertical-align: top;\n",
       "    }\n",
       "\n",
       "    .dataframe thead th {\n",
       "        text-align: right;\n",
       "    }\n",
       "</style>\n",
       "<table border=\"1\" class=\"dataframe\">\n",
       "  <thead>\n",
       "    <tr style=\"text-align: right;\">\n",
       "      <th></th>\n",
       "      <th>Date</th>\n",
       "      <th>Campaign Name</th>\n",
       "      <th>Country Filter</th>\n",
       "      <th>Audience Filter</th>\n",
       "      <th>Channel Filter</th>\n",
       "      <th>Cost (EUR)</th>\n",
       "      <th>Impressions</th>\n",
       "      <th>Reach</th>\n",
       "      <th>CPM (EUR)</th>\n",
       "      <th>Post Engagement (All Objectives)</th>\n",
       "      <th>ER (All Objectives)</th>\n",
       "      <th>CPE (All Objectives) (EUR)</th>\n",
       "      <th>Link Clicks (All Objectives)</th>\n",
       "      <th>CTR (All Objectives)</th>\n",
       "      <th>CPC (All Objectives)</th>\n",
       "    </tr>\n",
       "  </thead>\n",
       "  <tbody>\n",
       "    <tr>\n",
       "      <th>2078</th>\n",
       "      <td>2023-10-29</td>\n",
       "      <td>Campaign Name 17</td>\n",
       "      <td>Sweden</td>\n",
       "      <td>Audience 1</td>\n",
       "      <td>LinkedIn</td>\n",
       "      <td>NaN</td>\n",
       "      <td>NaN</td>\n",
       "      <td>0</td>\n",
       "      <td>NaN</td>\n",
       "      <td>NaN</td>\n",
       "      <td>NaN</td>\n",
       "      <td>NaN</td>\n",
       "      <td>NaN</td>\n",
       "      <td>NaN</td>\n",
       "      <td>NaN</td>\n",
       "    </tr>\n",
       "    <tr>\n",
       "      <th>695</th>\n",
       "      <td>2023-10-25</td>\n",
       "      <td>Campaign Name 16</td>\n",
       "      <td>France</td>\n",
       "      <td>Audience 5</td>\n",
       "      <td>LinkedIn</td>\n",
       "      <td>72.142578</td>\n",
       "      <td>6199.0</td>\n",
       "      <td>2170</td>\n",
       "      <td>11.637777</td>\n",
       "      <td>8.0</td>\n",
       "      <td>0.001291</td>\n",
       "      <td>9.017822</td>\n",
       "      <td>5.0</td>\n",
       "      <td>0.000807</td>\n",
       "      <td>14.4285</td>\n",
       "    </tr>\n",
       "    <tr>\n",
       "      <th>43</th>\n",
       "      <td>2023-10-03</td>\n",
       "      <td>Campaign Name 1</td>\n",
       "      <td>Sweden</td>\n",
       "      <td>Audience 2</td>\n",
       "      <td>LinkedIn</td>\n",
       "      <td>77.842145</td>\n",
       "      <td>2120.0</td>\n",
       "      <td>742</td>\n",
       "      <td>36.717993</td>\n",
       "      <td>17.0</td>\n",
       "      <td>0.008019</td>\n",
       "      <td>4.578950</td>\n",
       "      <td>2.0</td>\n",
       "      <td>0.000943</td>\n",
       "      <td>38.9211</td>\n",
       "    </tr>\n",
       "    <tr>\n",
       "      <th>2799</th>\n",
       "      <td>2023-10-28</td>\n",
       "      <td>Campaign Name 19</td>\n",
       "      <td>Sweden</td>\n",
       "      <td>Audience 1</td>\n",
       "      <td>Twitter</td>\n",
       "      <td>16.600000</td>\n",
       "      <td>20316.0</td>\n",
       "      <td>9955</td>\n",
       "      <td>0.817090</td>\n",
       "      <td>81.0</td>\n",
       "      <td>0.003987</td>\n",
       "      <td>0.204938</td>\n",
       "      <td>7.0</td>\n",
       "      <td>0.000345</td>\n",
       "      <td>2.3714</td>\n",
       "    </tr>\n",
       "    <tr>\n",
       "      <th>757</th>\n",
       "      <td>2023-10-26</td>\n",
       "      <td>Campaign Name 10</td>\n",
       "      <td>United Kingdom</td>\n",
       "      <td>Audience 12</td>\n",
       "      <td>LinkedIn</td>\n",
       "      <td>50.700610</td>\n",
       "      <td>2107.0</td>\n",
       "      <td>737</td>\n",
       "      <td>24.062938</td>\n",
       "      <td>10.0</td>\n",
       "      <td>0.004746</td>\n",
       "      <td>5.070061</td>\n",
       "      <td>0.0</td>\n",
       "      <td>0.000000</td>\n",
       "      <td>NaN</td>\n",
       "    </tr>\n",
       "    <tr>\n",
       "      <th>1380</th>\n",
       "      <td>2023-10-19</td>\n",
       "      <td>Campaign Name 6</td>\n",
       "      <td>Mexico</td>\n",
       "      <td>Audience 2</td>\n",
       "      <td>LinkedIn</td>\n",
       "      <td>0.000000</td>\n",
       "      <td>1.0</td>\n",
       "      <td>0</td>\n",
       "      <td>0.000000</td>\n",
       "      <td>0.0</td>\n",
       "      <td>0.000000</td>\n",
       "      <td>NaN</td>\n",
       "      <td>0.0</td>\n",
       "      <td>0.000000</td>\n",
       "      <td>NaN</td>\n",
       "    </tr>\n",
       "    <tr>\n",
       "      <th>873</th>\n",
       "      <td>2023-10-27</td>\n",
       "      <td>Campaign Name 17</td>\n",
       "      <td>United Kingdom</td>\n",
       "      <td>Audience 1</td>\n",
       "      <td>LinkedIn</td>\n",
       "      <td>138.951713</td>\n",
       "      <td>5575.0</td>\n",
       "      <td>1951</td>\n",
       "      <td>24.924074</td>\n",
       "      <td>6.0</td>\n",
       "      <td>0.001076</td>\n",
       "      <td>23.158619</td>\n",
       "      <td>5.0</td>\n",
       "      <td>0.000897</td>\n",
       "      <td>27.7903</td>\n",
       "    </tr>\n",
       "    <tr>\n",
       "      <th>299</th>\n",
       "      <td>2023-10-15</td>\n",
       "      <td>Campaign Name 7</td>\n",
       "      <td>United States</td>\n",
       "      <td>Audience 6</td>\n",
       "      <td>LinkedIn</td>\n",
       "      <td>66.296735</td>\n",
       "      <td>1645.0</td>\n",
       "      <td>576</td>\n",
       "      <td>40.301967</td>\n",
       "      <td>10.0</td>\n",
       "      <td>0.006079</td>\n",
       "      <td>6.629674</td>\n",
       "      <td>2.0</td>\n",
       "      <td>0.001216</td>\n",
       "      <td>33.1484</td>\n",
       "    </tr>\n",
       "    <tr>\n",
       "      <th>1072</th>\n",
       "      <td>2023-10-09</td>\n",
       "      <td>Campaign Name 6</td>\n",
       "      <td>United Kingdom</td>\n",
       "      <td>Audience 2</td>\n",
       "      <td>LinkedIn</td>\n",
       "      <td>74.704570</td>\n",
       "      <td>2680.0</td>\n",
       "      <td>938</td>\n",
       "      <td>27.874840</td>\n",
       "      <td>12.0</td>\n",
       "      <td>0.004478</td>\n",
       "      <td>6.225381</td>\n",
       "      <td>12.0</td>\n",
       "      <td>0.004478</td>\n",
       "      <td>6.2254</td>\n",
       "    </tr>\n",
       "    <tr>\n",
       "      <th>866</th>\n",
       "      <td>2023-10-27</td>\n",
       "      <td>Campaign Name 21</td>\n",
       "      <td>France</td>\n",
       "      <td>Audience 1</td>\n",
       "      <td>LinkedIn</td>\n",
       "      <td>68.039063</td>\n",
       "      <td>3569.0</td>\n",
       "      <td>1249</td>\n",
       "      <td>19.063901</td>\n",
       "      <td>12.0</td>\n",
       "      <td>0.003362</td>\n",
       "      <td>5.669922</td>\n",
       "      <td>0.0</td>\n",
       "      <td>0.000000</td>\n",
       "      <td>NaN</td>\n",
       "    </tr>\n",
       "  </tbody>\n",
       "</table>\n",
       "</div>"
      ],
      "text/plain": [
       "            Date      Campaign Name  Country Filter Audience Filter  \\\n",
       "2078  2023-10-29   Campaign Name 17          Sweden      Audience 1   \n",
       "695   2023-10-25   Campaign Name 16          France      Audience 5   \n",
       "43    2023-10-03    Campaign Name 1          Sweden      Audience 2   \n",
       "2799  2023-10-28   Campaign Name 19          Sweden      Audience 1   \n",
       "757   2023-10-26  Campaign Name 10   United Kingdom     Audience 12   \n",
       "1380  2023-10-19    Campaign Name 6          Mexico      Audience 2   \n",
       "873   2023-10-27   Campaign Name 17  United Kingdom      Audience 1   \n",
       "299   2023-10-15    Campaign Name 7   United States      Audience 6   \n",
       "1072  2023-10-09    Campaign Name 6  United Kingdom      Audience 2   \n",
       "866   2023-10-27   Campaign Name 21          France      Audience 1   \n",
       "\n",
       "     Channel Filter  Cost (EUR)  Impressions  Reach  CPM (EUR)  \\\n",
       "2078       LinkedIn         NaN          NaN      0        NaN   \n",
       "695        LinkedIn   72.142578       6199.0   2170  11.637777   \n",
       "43         LinkedIn   77.842145       2120.0    742  36.717993   \n",
       "2799        Twitter   16.600000      20316.0   9955   0.817090   \n",
       "757        LinkedIn   50.700610       2107.0    737  24.062938   \n",
       "1380       LinkedIn    0.000000          1.0      0   0.000000   \n",
       "873        LinkedIn  138.951713       5575.0   1951  24.924074   \n",
       "299        LinkedIn   66.296735       1645.0    576  40.301967   \n",
       "1072       LinkedIn   74.704570       2680.0    938  27.874840   \n",
       "866        LinkedIn   68.039063       3569.0   1249  19.063901   \n",
       "\n",
       "      Post Engagement (All Objectives)  ER (All Objectives)  \\\n",
       "2078                               NaN                  NaN   \n",
       "695                                8.0             0.001291   \n",
       "43                                17.0             0.008019   \n",
       "2799                              81.0             0.003987   \n",
       "757                               10.0             0.004746   \n",
       "1380                               0.0             0.000000   \n",
       "873                                6.0             0.001076   \n",
       "299                               10.0             0.006079   \n",
       "1072                              12.0             0.004478   \n",
       "866                               12.0             0.003362   \n",
       "\n",
       "      CPE (All Objectives) (EUR)  Link Clicks (All Objectives)  \\\n",
       "2078                         NaN                           NaN   \n",
       "695                     9.017822                           5.0   \n",
       "43                      4.578950                           2.0   \n",
       "2799                    0.204938                           7.0   \n",
       "757                     5.070061                           0.0   \n",
       "1380                         NaN                           0.0   \n",
       "873                    23.158619                           5.0   \n",
       "299                     6.629674                           2.0   \n",
       "1072                    6.225381                          12.0   \n",
       "866                     5.669922                           0.0   \n",
       "\n",
       "      CTR (All Objectives)  CPC (All Objectives)  \n",
       "2078                   NaN                   NaN  \n",
       "695               0.000807               14.4285  \n",
       "43                0.000943               38.9211  \n",
       "2799              0.000345                2.3714  \n",
       "757               0.000000                   NaN  \n",
       "1380              0.000000                   NaN  \n",
       "873               0.000897               27.7903  \n",
       "299               0.001216               33.1484  \n",
       "1072              0.004478                6.2254  \n",
       "866               0.000000                   NaN  "
      ]
     },
     "execution_count": 61,
     "metadata": {},
     "output_type": "execute_result"
    }
   ],
   "source": [
    "#returns a random sample of 10 rows\n",
    "df.sample(n=10)"
   ]
  },
  {
   "cell_type": "markdown",
   "id": "c0c19f7b-e300-4ff4-b4b2-b6106ee52b3c",
   "metadata": {},
   "source": [
    "# After exploring the data the next step is cleaning the data if needed"
   ]
  },
  {
   "cell_type": "code",
   "execution_count": 64,
   "id": "d1e2bfcf-96a8-4d9b-ae5b-47e902085f49",
   "metadata": {},
   "outputs": [],
   "source": [
    "#### Let's Check for duplicate rows "
   ]
  },
  {
   "cell_type": "code",
   "execution_count": 65,
   "id": "ceab1533-ee47-4974-b868-cd7a85c97307",
   "metadata": {},
   "outputs": [
    {
     "data": {
      "text/plain": [
       "0"
      ]
     },
     "execution_count": 65,
     "metadata": {},
     "output_type": "execute_result"
    }
   ],
   "source": [
    "\n",
    "duplicate_rows = df.duplicated().sum()\n",
    "duplicate_rows"
   ]
  },
  {
   "cell_type": "markdown",
   "id": "d89c50db-cdde-4660-8120-daa3970484fc",
   "metadata": {},
   "source": [
    "### Let's check if there are missing values"
   ]
  },
  {
   "cell_type": "code",
   "execution_count": 66,
   "id": "b655fd7f-4aab-4d77-9354-33a05ada94ec",
   "metadata": {},
   "outputs": [
    {
     "name": "stdout",
     "output_type": "stream",
     "text": [
      "Date                                   0\n",
      "Campaign Name                          0\n",
      "Country Filter                         0\n",
      "Audience Filter                        0\n",
      "Channel Filter                         0\n",
      "Cost (EUR)                           528\n",
      "Impressions                          528\n",
      "Reach                                  0\n",
      "CPM (EUR)                            641\n",
      "Post Engagement (All Objectives)     531\n",
      "ER (All Objectives)                  644\n",
      "CPE (All Objectives) (EUR)           717\n",
      "Link Clicks (All Objectives)         542\n",
      "CTR (All Objectives)                 641\n",
      "CPC (All Objectives)                1248\n",
      "dtype: int64\n"
     ]
    }
   ],
   "source": [
    "#checking missing values\n",
    "missing_values_count = df.isnull().sum()\n",
    "print(df.isnull().sum())\n"
   ]
  },
  {
   "cell_type": "code",
   "execution_count": 67,
   "id": "7658a0ae-0015-41fc-b0be-667ea6d4a9ef",
   "metadata": {},
   "outputs": [
    {
     "name": "stdout",
     "output_type": "stream",
     "text": [
      "Date\n",
      "Date\n",
      "False    3017\n",
      "Name: count, dtype: int64\n",
      "Campaign Name\n",
      "Campaign Name\n",
      "False    3017\n",
      "Name: count, dtype: int64\n",
      "Country Filter\n",
      "Country Filter\n",
      "False    3017\n",
      "Name: count, dtype: int64\n",
      "Audience Filter\n",
      "Audience Filter\n",
      "False    3017\n",
      "Name: count, dtype: int64\n",
      "Channel Filter\n",
      "Channel Filter\n",
      "False    3017\n",
      "Name: count, dtype: int64\n",
      "Cost (EUR)\n",
      "Cost (EUR)\n",
      "False    2489\n",
      "True      528\n",
      "Name: count, dtype: int64\n",
      "Impressions\n",
      "Impressions\n",
      "False    2489\n",
      "True      528\n",
      "Name: count, dtype: int64\n",
      "Reach\n",
      "Reach\n",
      "False    3017\n",
      "Name: count, dtype: int64\n",
      "CPM (EUR)\n",
      "CPM (EUR)\n",
      "False    2376\n",
      "True      641\n",
      "Name: count, dtype: int64\n",
      "Post Engagement (All Objectives)\n",
      "Post Engagement (All Objectives)\n",
      "False    2486\n",
      "True      531\n",
      "Name: count, dtype: int64\n",
      "ER (All Objectives)\n",
      "ER (All Objectives)\n",
      "False    2373\n",
      "True      644\n",
      "Name: count, dtype: int64\n",
      "CPE (All Objectives) (EUR)\n",
      "CPE (All Objectives) (EUR)\n",
      "False    2300\n",
      "True      717\n",
      "Name: count, dtype: int64\n",
      "Link Clicks (All Objectives)\n",
      "Link Clicks (All Objectives)\n",
      "False    2475\n",
      "True      542\n",
      "Name: count, dtype: int64\n",
      "CTR (All Objectives)\n",
      "CTR (All Objectives)\n",
      "False    2376\n",
      "True      641\n",
      "Name: count, dtype: int64\n",
      "CPC (All Objectives)\n",
      "CPC (All Objectives)\n",
      "False    1769\n",
      "True     1248\n",
      "Name: count, dtype: int64\n"
     ]
    }
   ],
   "source": [
    "#let's print all the column names in the missing data and then whe can count and print missing data count\n",
    "for column in list(missing_data.columns):\n",
    "    #print all the column names\n",
    "    print(column)\n",
    "    #count the data values\n",
    "    print(missing_data[column].value_counts())"
   ]
  },
  {
   "cell_type": "markdown",
   "id": "b01276ce-6aa8-46f9-8fc0-217e3d7728f5",
   "metadata": {},
   "source": [
    "### As you can see in the results there are a lot of missing values"
   ]
  },
  {
   "cell_type": "markdown",
   "id": "7f2a1a18-57fa-440d-b6d5-e51ccfd6efff",
   "metadata": {},
   "source": [
    "### Handling missing values step by step"
   ]
  },
  {
   "cell_type": "markdown",
   "id": "4f72f84a-1e0e-47ec-91ea-842e2bf2548b",
   "metadata": {},
   "source": [
    "#### Step 1: Impute Missing Values for 'Cost (EUR)', 'Impressions', 'Post Engagement (All Objectives)', 'Link Clicks (All Objectives).\n",
    "#### We'll use the median for imputation as it is less sensitive to outliers than the mean"
   ]
  },
  {
   "cell_type": "code",
   "execution_count": 68,
   "id": "c3f742ed-46e2-44b8-abf5-624cd41b7ef9",
   "metadata": {},
   "outputs": [],
   "source": [
    "cost_median = df['Cost (EUR)'].median()\n",
    "impressions_median = df['Impressions'].median()\n",
    "post_engagement_median = df['Post Engagement (All Objectives)'].median()\n",
    "link_clicks_median = df['Link Clicks (All Objectives)'].median()\n",
    "\n",
    "df['Cost (EUR)'].fillna(cost_median, inplace=True)\n",
    "df['Impressions'].fillna(impressions_median, inplace=True)\n",
    "df['Post Engagement (All Objectives)'].fillna(post_engagement_median, inplace=True)\n",
    "df['Link Clicks (All Objectives)'].fillna(link_clicks_median, inplace=True)\n",
    "\n"
   ]
  },
  {
   "cell_type": "markdown",
   "id": "297f3ddd-35ee-4f8a-af93-3cf9f1aa4cf2",
   "metadata": {},
   "source": [
    "#### Step 2: Drop 'CPC (All Objectives)' Column"
   ]
  },
  {
   "cell_type": "code",
   "execution_count": 69,
   "id": "c574a7ce-82bd-4466-b350-99ecb43d8a6b",
   "metadata": {},
   "outputs": [],
   "source": [
    "df.drop(\"CPC (All Objectives)\", axis=1, inplace=True)"
   ]
  },
  {
   "cell_type": "markdown",
   "id": "7a6e5e36-1763-41f1-9ee5-72deb88aaa15",
   "metadata": {},
   "source": [
    "#### Step 3: Advanced Imputation for other columns\n",
    "#### For simplicity, we'll use median imputation here as well."
   ]
  },
  {
   "cell_type": "code",
   "execution_count": 70,
   "id": "9ac2d82e-629a-4947-b015-748c870c9c34",
   "metadata": {},
   "outputs": [],
   "source": [
    "cpm_median = df['CPM (EUR)'].median()\n",
    "er_median = df['ER (All Objectives)'].median()\n",
    "cpe_median = df['CPE (All Objectives) (EUR)'].median()\n",
    "ctr_median = df['CTR (All Objectives)'].median()\n",
    "\n",
    "df['CPM (EUR)'].fillna(cpm_median, inplace=True)\n",
    "df['ER (All Objectives)'].fillna(er_median, inplace=True)\n",
    "df['CPE (All Objectives) (EUR)'].fillna(cpe_median, inplace=True)\n",
    "df['CTR (All Objectives)'].fillna(ctr_median, inplace=True)\n",
    "\n"
   ]
  },
  {
   "cell_type": "markdown",
   "id": "e9abe077-bb10-47b3-ab9a-223fd7eb840b",
   "metadata": {},
   "source": [
    "#### Display the first few rows of the cleaned DataFrame"
   ]
  },
  {
   "cell_type": "code",
   "execution_count": 71,
   "id": "bf771799-c40c-41b0-accc-0d03d56e98b6",
   "metadata": {},
   "outputs": [
    {
     "data": {
      "text/html": [
       "<div>\n",
       "<style scoped>\n",
       "    .dataframe tbody tr th:only-of-type {\n",
       "        vertical-align: middle;\n",
       "    }\n",
       "\n",
       "    .dataframe tbody tr th {\n",
       "        vertical-align: top;\n",
       "    }\n",
       "\n",
       "    .dataframe thead th {\n",
       "        text-align: right;\n",
       "    }\n",
       "</style>\n",
       "<table border=\"1\" class=\"dataframe\">\n",
       "  <thead>\n",
       "    <tr style=\"text-align: right;\">\n",
       "      <th></th>\n",
       "      <th>Date</th>\n",
       "      <th>Campaign Name</th>\n",
       "      <th>Country Filter</th>\n",
       "      <th>Audience Filter</th>\n",
       "      <th>Channel Filter</th>\n",
       "      <th>Cost (EUR)</th>\n",
       "      <th>Impressions</th>\n",
       "      <th>Reach</th>\n",
       "      <th>CPM (EUR)</th>\n",
       "      <th>Post Engagement (All Objectives)</th>\n",
       "      <th>ER (All Objectives)</th>\n",
       "      <th>CPE (All Objectives) (EUR)</th>\n",
       "      <th>Link Clicks (All Objectives)</th>\n",
       "      <th>CTR (All Objectives)</th>\n",
       "    </tr>\n",
       "  </thead>\n",
       "  <tbody>\n",
       "    <tr>\n",
       "      <th>0</th>\n",
       "      <td>2023-10-01</td>\n",
       "      <td>Campaign Name 1</td>\n",
       "      <td>Germany</td>\n",
       "      <td>Audience 1</td>\n",
       "      <td>LinkedIn</td>\n",
       "      <td>68.671772</td>\n",
       "      <td>1263.0</td>\n",
       "      <td>442</td>\n",
       "      <td>54.371949</td>\n",
       "      <td>10.0</td>\n",
       "      <td>0.007918</td>\n",
       "      <td>6.867177</td>\n",
       "      <td>4.0</td>\n",
       "      <td>0.003167</td>\n",
       "    </tr>\n",
       "    <tr>\n",
       "      <th>1</th>\n",
       "      <td>2023-10-01</td>\n",
       "      <td>Campaign Name 1</td>\n",
       "      <td>Germany</td>\n",
       "      <td>Audience 2</td>\n",
       "      <td>LinkedIn</td>\n",
       "      <td>54.936552</td>\n",
       "      <td>1231.0</td>\n",
       "      <td>431</td>\n",
       "      <td>44.627581</td>\n",
       "      <td>4.0</td>\n",
       "      <td>0.003249</td>\n",
       "      <td>13.734138</td>\n",
       "      <td>2.0</td>\n",
       "      <td>0.001625</td>\n",
       "    </tr>\n",
       "    <tr>\n",
       "      <th>2</th>\n",
       "      <td>2023-10-01</td>\n",
       "      <td>Campaign Name 1</td>\n",
       "      <td>Sweden</td>\n",
       "      <td>Audience 1</td>\n",
       "      <td>LinkedIn</td>\n",
       "      <td>65.649313</td>\n",
       "      <td>1599.0</td>\n",
       "      <td>560</td>\n",
       "      <td>41.056481</td>\n",
       "      <td>11.0</td>\n",
       "      <td>0.006879</td>\n",
       "      <td>5.968119</td>\n",
       "      <td>4.0</td>\n",
       "      <td>0.002502</td>\n",
       "    </tr>\n",
       "    <tr>\n",
       "      <th>3</th>\n",
       "      <td>2023-10-01</td>\n",
       "      <td>Campaign Name 1</td>\n",
       "      <td>United Kingdom</td>\n",
       "      <td>Audience 2</td>\n",
       "      <td>LinkedIn</td>\n",
       "      <td>50.936900</td>\n",
       "      <td>1998.0</td>\n",
       "      <td>699</td>\n",
       "      <td>25.493944</td>\n",
       "      <td>6.0</td>\n",
       "      <td>0.003003</td>\n",
       "      <td>8.489483</td>\n",
       "      <td>1.0</td>\n",
       "      <td>0.000501</td>\n",
       "    </tr>\n",
       "    <tr>\n",
       "      <th>4</th>\n",
       "      <td>2023-10-01</td>\n",
       "      <td>Campaign Name 1</td>\n",
       "      <td>United Kingdom</td>\n",
       "      <td>Audience 1</td>\n",
       "      <td>LinkedIn</td>\n",
       "      <td>86.505314</td>\n",
       "      <td>3660.0</td>\n",
       "      <td>1281</td>\n",
       "      <td>23.635332</td>\n",
       "      <td>16.0</td>\n",
       "      <td>0.004372</td>\n",
       "      <td>5.406582</td>\n",
       "      <td>5.0</td>\n",
       "      <td>0.001366</td>\n",
       "    </tr>\n",
       "  </tbody>\n",
       "</table>\n",
       "</div>"
      ],
      "text/plain": [
       "         Date    Campaign Name  Country Filter Audience Filter Channel Filter  \\\n",
       "0  2023-10-01  Campaign Name 1         Germany      Audience 1       LinkedIn   \n",
       "1  2023-10-01  Campaign Name 1         Germany      Audience 2       LinkedIn   \n",
       "2  2023-10-01  Campaign Name 1          Sweden      Audience 1       LinkedIn   \n",
       "3  2023-10-01  Campaign Name 1  United Kingdom      Audience 2       LinkedIn   \n",
       "4  2023-10-01  Campaign Name 1  United Kingdom      Audience 1       LinkedIn   \n",
       "\n",
       "   Cost (EUR)  Impressions  Reach  CPM (EUR)  \\\n",
       "0   68.671772       1263.0    442  54.371949   \n",
       "1   54.936552       1231.0    431  44.627581   \n",
       "2   65.649313       1599.0    560  41.056481   \n",
       "3   50.936900       1998.0    699  25.493944   \n",
       "4   86.505314       3660.0   1281  23.635332   \n",
       "\n",
       "   Post Engagement (All Objectives)  ER (All Objectives)  \\\n",
       "0                              10.0             0.007918   \n",
       "1                               4.0             0.003249   \n",
       "2                              11.0             0.006879   \n",
       "3                               6.0             0.003003   \n",
       "4                              16.0             0.004372   \n",
       "\n",
       "   CPE (All Objectives) (EUR)  Link Clicks (All Objectives)  \\\n",
       "0                    6.867177                           4.0   \n",
       "1                   13.734138                           2.0   \n",
       "2                    5.968119                           4.0   \n",
       "3                    8.489483                           1.0   \n",
       "4                    5.406582                           5.0   \n",
       "\n",
       "   CTR (All Objectives)  \n",
       "0              0.003167  \n",
       "1              0.001625  \n",
       "2              0.002502  \n",
       "3              0.000501  \n",
       "4              0.001366  "
      ]
     },
     "execution_count": 71,
     "metadata": {},
     "output_type": "execute_result"
    }
   ],
   "source": [
    "df_cleaned_head = df.head()\n",
    "df_cleaned_head"
   ]
  },
  {
   "cell_type": "markdown",
   "id": "123a9743-be29-4d2c-9248-20d5cdf31088",
   "metadata": {},
   "source": [
    "#### Checking for any remaining missing values in the cleaned DataFrame"
   ]
  },
  {
   "cell_type": "code",
   "execution_count": 72,
   "id": "60dbb9b4-9781-4535-8797-59e2f9669b05",
   "metadata": {},
   "outputs": [
    {
     "data": {
      "text/plain": [
       "Date                                0\n",
       "Campaign Name                       0\n",
       "Country Filter                      0\n",
       "Audience Filter                     0\n",
       "Channel Filter                      0\n",
       "Cost (EUR)                          0\n",
       "Impressions                         0\n",
       "Reach                               0\n",
       "CPM (EUR)                           0\n",
       "Post Engagement (All Objectives)    0\n",
       "ER (All Objectives)                 0\n",
       "CPE (All Objectives) (EUR)          0\n",
       "Link Clicks (All Objectives)        0\n",
       "CTR (All Objectives)                0\n",
       "dtype: int64"
      ]
     },
     "execution_count": 72,
     "metadata": {},
     "output_type": "execute_result"
    }
   ],
   "source": [
    "missing_values_cleaned = df.isnull().sum()\n",
    "missing_values_cleaned"
   ]
  },
  {
   "cell_type": "markdown",
   "id": "c982c295-3218-4307-8108-09fb031bedaf",
   "metadata": {},
   "source": [
    "#### After cleaning I will check if the datatypes are relevant for my analysis"
   ]
  },
  {
   "cell_type": "markdown",
   "id": "f3879bda-6af5-4952-ae9a-a5a98486d23b",
   "metadata": {},
   "source": [
    "### Let's look at the datatypes"
   ]
  },
  {
   "cell_type": "code",
   "execution_count": 31,
   "id": "5a9c5ce4-4b4f-42dd-94ca-0d63f9be6b36",
   "metadata": {},
   "outputs": [
    {
     "data": {
      "text/plain": [
       "Date                                 object\n",
       "Campaign Name                        object\n",
       "Country Filter                       object\n",
       "Audience Filter                      object\n",
       "Channel Filter                       object\n",
       "Cost (EUR)                          float64\n",
       "Impressions                         float64\n",
       "Reach                                 int64\n",
       "CPM (EUR)                           float64\n",
       "Post Engagement (All Objectives)    float64\n",
       "ER (All Objectives)                 float64\n",
       "CPE (All Objectives) (EUR)          float64\n",
       "Link Clicks (All Objectives)        float64\n",
       "CTR (All Objectives)                float64\n",
       "dtype: object"
      ]
     },
     "execution_count": 31,
     "metadata": {},
     "output_type": "execute_result"
    }
   ],
   "source": [
    "df.dtypes"
   ]
  },
  {
   "cell_type": "markdown",
   "id": "c46c6eb3-4fda-4a2d-8082-b033fcfe4512",
   "metadata": {},
   "source": [
    "#### Everything is good besides the date column because we need to filter the data for the last 7 days so we need to convert the 'Date' column to datetime format and then filter.\n"
   ]
  },
  {
   "cell_type": "code",
   "execution_count": 83,
   "id": "af1cb113-b02e-4ca6-bbf9-c7e681881c58",
   "metadata": {},
   "outputs": [
    {
     "name": "stdout",
     "output_type": "stream",
     "text": [
      "(1155, 14)\n",
      "(918, 14)\n"
     ]
    }
   ],
   "source": [
    "# Find the most recent date in your data\n",
    "max_date = df['Date'].max()\n",
    "\n",
    "# Filter for the last 7 days based on the max_date\n",
    "recent_data = df[df['Date'] > max_date - pd.Timedelta(days=7)]\n",
    "\n",
    "# Further filter for records with more than 1000 impressions\n",
    "high_impression_data = recent_data[recent_data['Impressions'] > 1000]\n",
    "\n",
    "# Check the number of records after filtering\n",
    "print(recent_data.shape)\n",
    "print(high_impression_data.shape)\n",
    "\n",
    "\n"
   ]
  },
  {
   "cell_type": "markdown",
   "id": "58f2210e-d088-4d68-8389-23cdd5a11ec0",
   "metadata": {},
   "source": [
    "#### I prepared the data by filtering for the last 7 days and focusing on creatives with more than 1000 impressions, in line with my hypothesis"
   ]
  },
  {
   "cell_type": "markdown",
   "id": "ba485cd2-c3e9-4492-832d-5ec87e5128a2",
   "metadata": {},
   "source": [
    "# So the next step is data analysis"
   ]
  },
  {
   "cell_type": "markdown",
   "id": "615fc4fd-84be-486d-89ce-b6502fe2f44c",
   "metadata": {},
   "source": [
    "#### Grouped by these categories and calculated the maximum CPM for each group"
   ]
  },
  {
   "cell_type": "code",
   "execution_count": 85,
   "id": "fb832371-5652-4b45-a36d-9cb5e7967877",
   "metadata": {},
   "outputs": [
    {
     "name": "stdout",
     "output_type": "stream",
     "text": [
      "   Audience Filter Country Filter Channel Filter   CPM (EUR)\n",
      "51      Audience 3         Global       LinkedIn  160.111041\n",
      "48      Audience 2  United States        YouTube   78.069253\n",
      "29     Audience 13        Germany       LinkedIn   73.014633\n",
      "22     Audience 11  United States        YouTube   71.094387\n",
      "2       Audience 1        Germany       LinkedIn   64.657716\n"
     ]
    }
   ],
   "source": [
    "grouped_data = high_impression_data.groupby(['Audience Filter', 'Country Filter', 'Channel Filter']).agg({'CPM (EUR)': 'max'}).reset_index()\n",
    "\n",
    "# Sort the grouped data by CPM in descending order to find the top-performing groups\n",
    "top_performers = grouped_data.sort_values(by='CPM (EUR)', ascending=False)\n",
    "\n",
    "# Display the top 5 performing groups\n",
    "print(top_performers.head())\n"
   ]
  },
  {
   "cell_type": "markdown",
   "id": "f36d8877-a95b-49f2-bf45-c0b9ef3cb7e4",
   "metadata": {},
   "source": [
    "#### So this step of analysis involved grouping by audience, country, and channel, and then identifying the creatives with the maximum CPM, which is a key step in testing my hypothesis."
   ]
  },
  {
   "cell_type": "code",
   "execution_count": 89,
   "id": "af6e49a9-bd01-4d2e-8553-1b4d241a1b0a",
   "metadata": {},
   "outputs": [
    {
     "name": "stdout",
     "output_type": "stream",
     "text": [
      "Index(['Audience Filter', 'Country Filter', 'Channel Filter', 'CPM (EUR)'], dtype='object')\n"
     ]
    }
   ],
   "source": [
    "print(top_performers.columns)\n"
   ]
  },
  {
   "cell_type": "markdown",
   "id": "b0c5abcc-40c0-4f9d-b3de-72fd81147d3a",
   "metadata": {},
   "source": [
    "# Data Visualization"
   ]
  },
  {
   "cell_type": "code",
   "execution_count": 90,
   "id": "f83d7b05-6102-4014-bbd6-90944cae4fa8",
   "metadata": {},
   "outputs": [],
   "source": [
    "import seaborn as sns\n",
    "import matplotlib.pyplot as plt"
   ]
  },
  {
   "cell_type": "code",
   "execution_count": 97,
   "id": "b056578a-b46b-4d71-a0fa-77cea6702638",
   "metadata": {},
   "outputs": [
    {
     "data": {
      "image/png": "[encoded data removed]",
      "text/plain": [
       "<Figure size 1200x800 with 2 Axes>"
      ]
     },
     "metadata": {},
     "output_type": "display_data"
    }
   ],
   "source": [
    "#Average CPM Across Countries and Channels\n",
    "heatmap_data = df.pivot_table(index='Country Filter', columns='Channel Filter', values='CPM (EUR)', aggfunc='mean')\n",
    "\n",
    "# Creating the heatmap\n",
    "plt.figure(figsize=(12, 8))\n",
    "sns.heatmap(heatmap_data, annot=True, cmap='YlGnBu', fmt='.2f')\n",
    "plt.title('Average CPM Across Countries and Channels')\n",
    "plt.ylabel('Country')\n",
    "plt.xlabel('Channel')\n",
    "\n",
    "plt.show()\n"
   ]
  },
  {
   "cell_type": "markdown",
   "id": "2d9b0718-8232-485c-9ca6-0856bf3844aa",
   "metadata": {},
   "source": [
    "#### This heatmap identifies high-cost CPM areas (darker shades) across countries and channels, such as Instagram in the Nordics, guiding our focus for optimization efforts. Lighter areas indicate more cost-effective segments, like YouTube in Mexico. These findings inform where to adjust marketing strategies to improve profitability\n"
   ]
  },
  {
   "cell_type": "code",
   "execution_count": 99,
   "id": "18fc9e2b-fd66-4b35-a45c-118a36bf5c68",
   "metadata": {},
   "outputs": [
    {
     "data": {
      "image/png": "[encoded data removed]",
      "text/plain": [
       "<Figure size 1000x600 with 1 Axes>"
      ]
     },
     "metadata": {},
     "output_type": "display_data"
    }
   ],
   "source": [
    "\n",
    "# Setting the aesthetic style of the plots\n",
    "sns.set_style(\"whitegrid\")\n",
    "\n",
    "# Creating a larger figure for clarity\n",
    "plt.figure(figsize=(10, 6))\n",
    "\n",
    "barplot = sns.barplot(x='Country Filter', y='CPM (EUR)', data=top_performers)\n",
    "\n",
    "# Adding titles and labels for clarity\n",
    "plt.title('CPM Analysis Across Different Countries')\n",
    "plt.xlabel('Country')\n",
    "plt.ylabel('CPM (Cost Per Mille)')\n",
    "\n",
    "# Rotating x-labels for better readability\n",
    "plt.xticks(rotation=45)\n",
    "\n",
    "# Adding value labels on top of each bar for precise information\n",
    "for p in barplot.patches:\n",
    "    barplot.annotate(format(p.get_height(), '.2f'), \n",
    "                     (p.get_x() + p.get_width() / 2., p.get_height()), \n",
    "                     ha = 'center', va = 'center', \n",
    "                     xytext = (0, 10), \n",
    "                     textcoords = 'offset points')\n",
    "\n",
    "# Display the plot\n",
    "plt.show()\n"
   ]
  },
  {
   "cell_type": "markdown",
   "id": "f10b9eef-ed57-4edf-abc6-e5baea3535b0",
   "metadata": {},
   "source": [
    "#### The bar chart displays advertising costs per thousand impressions, with 'Global' having the top rate, showing it's the priciest option. The United States, Germany, and Sweden follow with elevated costs, whereas Spain and Portugal present lower rates, hinting at more budget-friendly choices. This information will help direct our advertising investments towards more economical markets."
   ]
  },
  {
   "cell_type": "markdown",
   "id": "cad85102-e848-47d6-963b-b9ca20fa2c0d",
   "metadata": {},
   "source": [
    "# These insights validate our hypothesis that identifying high-cost segments through data analysis can pinpoint opportunities for optimization."
   ]
  },
  {
   "cell_type": "markdown",
   "id": "7f2d28c4-bdb6-48b2-9ff2-5fdb8490ad7c",
   "metadata": {},
   "source": [
    "### Recommendations:\n",
    "#### Shift Spending: Move budget away from pricey global ads to more effective local markets.\n",
    "#### Focus Wisely: Target channels and areas where ad costs are lower to boost efficiency.\n",
    "#### Stay Informed: Continually review CPM trends to refine our marketing approach.\n",
    "#### Deep Dive: Investigate why some ads cost more and find ways to cut expenses.\n",
    "#### Use Data: Base future campaign tactics on what we've learned from our data.\n",
    "#### Automate Reports: Use weekly automated reporting to keep our strategy sharp and responsive"
   ]
  },
  {
   "cell_type": "code",
   "execution_count": null,
   "id": "198cad6e-69ba-4499-b8da-d936b492a30a",
   "metadata": {},
   "outputs": [],
   "source": []
  }
 ],
 "metadata": {
  "kernelspec": {
   "display_name": "Python 3 (ipykernel)",
   "language": "python",
   "name": "python3"
  },
  "language_info": {
   "codemirror_mode": {
    "name": "ipython",
    "version": 3
   },
   "file_extension": ".py",
   "mimetype": "text/x-python",
   "name": "python",
   "nbconvert_exporter": "python",
   "pygments_lexer": "ipython3",
   "version": "3.12.0"
  }
 },
 "nbformat": 4,
 "nbformat_minor": 5
}

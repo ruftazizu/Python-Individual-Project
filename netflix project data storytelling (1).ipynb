{
 "cells": [
  {
   "cell_type": "markdown",
   "id": "7301d80b",
   "metadata": {},
   "source": [
    "# Netflix Project\n"
   ]
  },
  {
   "cell_type": "markdown",
   "id": "35a35bb0",
   "metadata": {},
   "source": [
    "Import Pandas as pd and read the file into a Pandas DataFrame."
   ]
  },
  {
   "cell_type": "code",
   "execution_count": 177,
   "id": "2bf16fbf",
   "metadata": {},
   "outputs": [],
   "source": [
    "import pandas as pd\n",
    "df = pd.read_csv('ViewingActivity.csv')"
   ]
  },
  {
   "cell_type": "markdown",
   "id": "f007e2fb",
   "metadata": {},
   "source": [
    "First, let's understand how many rows & columns we have using "
   ]
  },
  {
   "cell_type": "code",
   "execution_count": 178,
   "id": "83bf9374",
   "metadata": {},
   "outputs": [
    {
     "data": {
      "text/plain": [
       "(15951, 10)"
      ]
     },
     "execution_count": 178,
     "metadata": {},
     "output_type": "execute_result"
    }
   ],
   "source": [
    " #returns the number of rows and columns\n",
    "df.shape     "
   ]
  },
  {
   "cell_type": "markdown",
   "id": "6d731b51",
   "metadata": {},
   "source": [
    "Let's have a closer look at the first rows of the dataset"
   ]
  },
  {
   "cell_type": "code",
   "execution_count": 179,
   "id": "ce033ec9",
   "metadata": {},
   "outputs": [
    {
     "data": {
      "text/html": [
       "<div>\n",
       "<style scoped>\n",
       "    .dataframe tbody tr th:only-of-type {\n",
       "        vertical-align: middle;\n",
       "    }\n",
       "\n",
       "    .dataframe tbody tr th {\n",
       "        vertical-align: top;\n",
       "    }\n",
       "\n",
       "    .dataframe thead th {\n",
       "        text-align: right;\n",
       "    }\n",
       "</style>\n",
       "<table border=\"1\" class=\"dataframe\">\n",
       "  <thead>\n",
       "    <tr style=\"text-align: right;\">\n",
       "      <th></th>\n",
       "      <th>Profile Name</th>\n",
       "      <th>Start Time</th>\n",
       "      <th>Duration</th>\n",
       "      <th>Attributes</th>\n",
       "      <th>Title</th>\n",
       "      <th>Supplemental Video Type</th>\n",
       "      <th>Device Type</th>\n",
       "      <th>Bookmark</th>\n",
       "      <th>Latest Bookmark</th>\n",
       "      <th>Country</th>\n",
       "    </tr>\n",
       "  </thead>\n",
       "  <tbody>\n",
       "    <tr>\n",
       "      <th>0</th>\n",
       "      <td>ME</td>\n",
       "      <td>2023-03-12 21:49:14</td>\n",
       "      <td>00:16:10</td>\n",
       "      <td>NaN</td>\n",
       "      <td>Really Love</td>\n",
       "      <td>NaN</td>\n",
       "      <td>Android DefaultWidevineL3Phone Android Phone</td>\n",
       "      <td>00:38:39</td>\n",
       "      <td>00:38:39</td>\n",
       "      <td>ET (Ethiopia)</td>\n",
       "    </tr>\n",
       "    <tr>\n",
       "      <th>1</th>\n",
       "      <td>ME</td>\n",
       "      <td>2023-03-12 21:43:36</td>\n",
       "      <td>00:05:04</td>\n",
       "      <td>NaN</td>\n",
       "      <td>Friends: Season 2: The One with the Chicken Po...</td>\n",
       "      <td>NaN</td>\n",
       "      <td>Android DefaultWidevineL3Phone Android Phone</td>\n",
       "      <td>00:08:43</td>\n",
       "      <td>00:08:43</td>\n",
       "      <td>ET (Ethiopia)</td>\n",
       "    </tr>\n",
       "    <tr>\n",
       "      <th>2</th>\n",
       "      <td>ME</td>\n",
       "      <td>2023-03-12 21:22:01</td>\n",
       "      <td>00:21:33</td>\n",
       "      <td>NaN</td>\n",
       "      <td>Friends: Season 2: The One with the Two Partie...</td>\n",
       "      <td>NaN</td>\n",
       "      <td>Android DefaultWidevineL3Phone Android Phone</td>\n",
       "      <td>00:22:43</td>\n",
       "      <td>00:22:43</td>\n",
       "      <td>ET (Ethiopia)</td>\n",
       "    </tr>\n",
       "    <tr>\n",
       "      <th>3</th>\n",
       "      <td>ME</td>\n",
       "      <td>2023-03-12 20:59:11</td>\n",
       "      <td>00:22:49</td>\n",
       "      <td>NaN</td>\n",
       "      <td>Friends: Season 2: The One with the Bullies (E...</td>\n",
       "      <td>NaN</td>\n",
       "      <td>Android DefaultWidevineL3Phone Android Phone</td>\n",
       "      <td>00:22:49</td>\n",
       "      <td>00:22:49</td>\n",
       "      <td>ET (Ethiopia)</td>\n",
       "    </tr>\n",
       "    <tr>\n",
       "      <th>4</th>\n",
       "      <td>ME</td>\n",
       "      <td>2023-03-12 20:37:09</td>\n",
       "      <td>00:21:55</td>\n",
       "      <td>NaN</td>\n",
       "      <td>Friends: Season 2: The One Where Old Yeller Di...</td>\n",
       "      <td>NaN</td>\n",
       "      <td>Android DefaultWidevineL3Phone Android Phone</td>\n",
       "      <td>00:22:25</td>\n",
       "      <td>00:22:25</td>\n",
       "      <td>ET (Ethiopia)</td>\n",
       "    </tr>\n",
       "  </tbody>\n",
       "</table>\n",
       "</div>"
      ],
      "text/plain": [
       "  Profile Name           Start Time  Duration Attributes  \\\n",
       "0           ME  2023-03-12 21:49:14  00:16:10        NaN   \n",
       "1           ME  2023-03-12 21:43:36  00:05:04        NaN   \n",
       "2           ME  2023-03-12 21:22:01  00:21:33        NaN   \n",
       "3           ME  2023-03-12 20:59:11  00:22:49        NaN   \n",
       "4           ME  2023-03-12 20:37:09  00:21:55        NaN   \n",
       "\n",
       "                                               Title Supplemental Video Type  \\\n",
       "0                                        Really Love                     NaN   \n",
       "1  Friends: Season 2: The One with the Chicken Po...                     NaN   \n",
       "2  Friends: Season 2: The One with the Two Partie...                     NaN   \n",
       "3  Friends: Season 2: The One with the Bullies (E...                     NaN   \n",
       "4  Friends: Season 2: The One Where Old Yeller Di...                     NaN   \n",
       "\n",
       "                                    Device Type  Bookmark Latest Bookmark  \\\n",
       "0  Android DefaultWidevineL3Phone Android Phone  00:38:39        00:38:39   \n",
       "1  Android DefaultWidevineL3Phone Android Phone  00:08:43        00:08:43   \n",
       "2  Android DefaultWidevineL3Phone Android Phone  00:22:43        00:22:43   \n",
       "3  Android DefaultWidevineL3Phone Android Phone  00:22:49        00:22:49   \n",
       "4  Android DefaultWidevineL3Phone Android Phone  00:22:25        00:22:25   \n",
       "\n",
       "         Country  \n",
       "0  ET (Ethiopia)  \n",
       "1  ET (Ethiopia)  \n",
       "2  ET (Ethiopia)  \n",
       "3  ET (Ethiopia)  \n",
       "4  ET (Ethiopia)  "
      ]
     },
     "execution_count": 179,
     "metadata": {},
     "output_type": "execute_result"
    }
   ],
   "source": [
    " #returns the first 5 rows\n",
    "df.head() "
   ]
  },
  {
   "cell_type": "markdown",
   "id": "b900ef51",
   "metadata": {},
   "source": [
    "Additionally, let's get some random sample rows for a further first understanding of the data."
   ]
  },
  {
   "cell_type": "code",
   "execution_count": 180,
   "id": "e2ce1bdb",
   "metadata": {},
   "outputs": [
    {
     "data": {
      "text/html": [
       "<div>\n",
       "<style scoped>\n",
       "    .dataframe tbody tr th:only-of-type {\n",
       "        vertical-align: middle;\n",
       "    }\n",
       "\n",
       "    .dataframe tbody tr th {\n",
       "        vertical-align: top;\n",
       "    }\n",
       "\n",
       "    .dataframe thead th {\n",
       "        text-align: right;\n",
       "    }\n",
       "</style>\n",
       "<table border=\"1\" class=\"dataframe\">\n",
       "  <thead>\n",
       "    <tr style=\"text-align: right;\">\n",
       "      <th></th>\n",
       "      <th>Profile Name</th>\n",
       "      <th>Start Time</th>\n",
       "      <th>Duration</th>\n",
       "      <th>Attributes</th>\n",
       "      <th>Title</th>\n",
       "      <th>Supplemental Video Type</th>\n",
       "      <th>Device Type</th>\n",
       "      <th>Bookmark</th>\n",
       "      <th>Latest Bookmark</th>\n",
       "      <th>Country</th>\n",
       "    </tr>\n",
       "  </thead>\n",
       "  <tbody>\n",
       "    <tr>\n",
       "      <th>10632</th>\n",
       "      <td>Enda Endrias</td>\n",
       "      <td>2022-07-19 15:40:54</td>\n",
       "      <td>00:00:05</td>\n",
       "      <td>Autoplayed: user action: None;</td>\n",
       "      <td>Turbo_hook_primary_16x9</td>\n",
       "      <td>HOOK</td>\n",
       "      <td>Hisense MSD6886 5.1 UHD TV without DV Smart TV</td>\n",
       "      <td>00:00:05</td>\n",
       "      <td>00:00:05</td>\n",
       "      <td>UG (Uganda)</td>\n",
       "    </tr>\n",
       "    <tr>\n",
       "      <th>861</th>\n",
       "      <td>ME</td>\n",
       "      <td>2022-07-21 14:09:36</td>\n",
       "      <td>00:12:34</td>\n",
       "      <td>Autoplayed: user action: User_Interaction;</td>\n",
       "      <td>Jumanji: The Next Level</td>\n",
       "      <td>NaN</td>\n",
       "      <td>Hisense MSD6886 5.1 UHD TV without DV Smart TV</td>\n",
       "      <td>00:12:34</td>\n",
       "      <td>Not latest view</td>\n",
       "      <td>UG (Uganda)</td>\n",
       "    </tr>\n",
       "    <tr>\n",
       "      <th>13789</th>\n",
       "      <td>Zizu</td>\n",
       "      <td>2022-07-25 22:13:21</td>\n",
       "      <td>00:21:27</td>\n",
       "      <td>NaN</td>\n",
       "      <td>The Umbrella Academy: Season 2: The Seven Stag...</td>\n",
       "      <td>NaN</td>\n",
       "      <td>Apple iPhone 13 Pro Max</td>\n",
       "      <td>00:44:21</td>\n",
       "      <td>00:44:21</td>\n",
       "      <td>SE (Sweden)</td>\n",
       "    </tr>\n",
       "    <tr>\n",
       "      <th>4414</th>\n",
       "      <td>ME</td>\n",
       "      <td>2021-07-11 15:34:54</td>\n",
       "      <td>00:10:42</td>\n",
       "      <td>NaN</td>\n",
       "      <td>Suits: Season 6: She's Gone (Episode 11)</td>\n",
       "      <td>NaN</td>\n",
       "      <td>LG DTV 2021 MTK LM21A UHD TV Smart TV</td>\n",
       "      <td>00:11:45</td>\n",
       "      <td>Not latest view</td>\n",
       "      <td>ET (Ethiopia)</td>\n",
       "    </tr>\n",
       "    <tr>\n",
       "      <th>14006</th>\n",
       "      <td>Zizu</td>\n",
       "      <td>2022-04-27 19:50:46</td>\n",
       "      <td>01:45:56</td>\n",
       "      <td>NaN</td>\n",
       "      <td>365 Days: This Day</td>\n",
       "      <td>NaN</td>\n",
       "      <td>Safari MAC (Cadmium)</td>\n",
       "      <td>01:46:34</td>\n",
       "      <td>01:46:34</td>\n",
       "      <td>SE (Sweden)</td>\n",
       "    </tr>\n",
       "    <tr>\n",
       "      <th>15260</th>\n",
       "      <td>Zizu</td>\n",
       "      <td>2021-04-24 20:37:20</td>\n",
       "      <td>00:20:46</td>\n",
       "      <td>NaN</td>\n",
       "      <td>Zero: Season 1: Episode 3</td>\n",
       "      <td>NaN</td>\n",
       "      <td>Netflix Windows App - Cadmium Windows Mobile</td>\n",
       "      <td>00:20:46</td>\n",
       "      <td>00:20:46</td>\n",
       "      <td>SE (Sweden)</td>\n",
       "    </tr>\n",
       "    <tr>\n",
       "      <th>14093</th>\n",
       "      <td>Zizu</td>\n",
       "      <td>2022-04-10 15:56:01</td>\n",
       "      <td>00:19:34</td>\n",
       "      <td>NaN</td>\n",
       "      <td>Bridgerton: Season 2: Off to the Races (Episod...</td>\n",
       "      <td>NaN</td>\n",
       "      <td>Netflix Windows App - Cadmium Windows Mobile</td>\n",
       "      <td>00:19:34</td>\n",
       "      <td>Not latest view</td>\n",
       "      <td>SE (Sweden)</td>\n",
       "    </tr>\n",
       "    <tr>\n",
       "      <th>1759</th>\n",
       "      <td>ME</td>\n",
       "      <td>2021-12-29 08:14:44</td>\n",
       "      <td>00:13:52</td>\n",
       "      <td>Autoplayed: user action: User_Interaction;</td>\n",
       "      <td>The Witcher: Season 2: Kaer Morhen (Episode 2)</td>\n",
       "      <td>NaN</td>\n",
       "      <td>LG DTV 2021 MTK LM21A UHD TV Smart TV</td>\n",
       "      <td>00:54:22</td>\n",
       "      <td>00:54:22</td>\n",
       "      <td>ET (Ethiopia)</td>\n",
       "    </tr>\n",
       "    <tr>\n",
       "      <th>6812</th>\n",
       "      <td>Arsy 😎</td>\n",
       "      <td>2022-03-25 16:42:52</td>\n",
       "      <td>00:00:44</td>\n",
       "      <td>NaN</td>\n",
       "      <td>Too Hot to Handle: Season 2: Money down the Dr...</td>\n",
       "      <td>NaN</td>\n",
       "      <td>Apple iPhone 11 Pro</td>\n",
       "      <td>00:00:54</td>\n",
       "      <td>Not latest view</td>\n",
       "      <td>UG (Uganda)</td>\n",
       "    </tr>\n",
       "    <tr>\n",
       "      <th>1965</th>\n",
       "      <td>ME</td>\n",
       "      <td>2021-12-20 23:07:07</td>\n",
       "      <td>00:04:17</td>\n",
       "      <td>NaN</td>\n",
       "      <td>Ozark: Season 1: Blue Cat (Episode 2)</td>\n",
       "      <td>NaN</td>\n",
       "      <td>Samsung CE 2020 Kant-S2 UHD TV Smart TV</td>\n",
       "      <td>00:04:17</td>\n",
       "      <td>00:04:17</td>\n",
       "      <td>ZM (Zambia)</td>\n",
       "    </tr>\n",
       "  </tbody>\n",
       "</table>\n",
       "</div>"
      ],
      "text/plain": [
       "        Profile Name           Start Time  Duration  \\\n",
       "10632  Enda Endrias   2022-07-19 15:40:54  00:00:05   \n",
       "861               ME  2022-07-21 14:09:36  00:12:34   \n",
       "13789           Zizu  2022-07-25 22:13:21  00:21:27   \n",
       "4414              ME  2021-07-11 15:34:54  00:10:42   \n",
       "14006           Zizu  2022-04-27 19:50:46  01:45:56   \n",
       "15260           Zizu  2021-04-24 20:37:20  00:20:46   \n",
       "14093           Zizu  2022-04-10 15:56:01  00:19:34   \n",
       "1759              ME  2021-12-29 08:14:44  00:13:52   \n",
       "6812          Arsy 😎  2022-03-25 16:42:52  00:00:44   \n",
       "1965              ME  2021-12-20 23:07:07  00:04:17   \n",
       "\n",
       "                                        Attributes  \\\n",
       "10632              Autoplayed: user action: None;    \n",
       "861    Autoplayed: user action: User_Interaction;    \n",
       "13789                                          NaN   \n",
       "4414                                           NaN   \n",
       "14006                                          NaN   \n",
       "15260                                          NaN   \n",
       "14093                                          NaN   \n",
       "1759   Autoplayed: user action: User_Interaction;    \n",
       "6812                                           NaN   \n",
       "1965                                           NaN   \n",
       "\n",
       "                                                   Title  \\\n",
       "10632                            Turbo_hook_primary_16x9   \n",
       "861                              Jumanji: The Next Level   \n",
       "13789  The Umbrella Academy: Season 2: The Seven Stag...   \n",
       "4414            Suits: Season 6: She's Gone (Episode 11)   \n",
       "14006                                 365 Days: This Day   \n",
       "15260                          Zero: Season 1: Episode 3   \n",
       "14093  Bridgerton: Season 2: Off to the Races (Episod...   \n",
       "1759      The Witcher: Season 2: Kaer Morhen (Episode 2)   \n",
       "6812   Too Hot to Handle: Season 2: Money down the Dr...   \n",
       "1965               Ozark: Season 1: Blue Cat (Episode 2)   \n",
       "\n",
       "      Supplemental Video Type                                     Device Type  \\\n",
       "10632                    HOOK  Hisense MSD6886 5.1 UHD TV without DV Smart TV   \n",
       "861                       NaN  Hisense MSD6886 5.1 UHD TV without DV Smart TV   \n",
       "13789                     NaN                         Apple iPhone 13 Pro Max   \n",
       "4414                      NaN           LG DTV 2021 MTK LM21A UHD TV Smart TV   \n",
       "14006                     NaN                            Safari MAC (Cadmium)   \n",
       "15260                     NaN    Netflix Windows App - Cadmium Windows Mobile   \n",
       "14093                     NaN    Netflix Windows App - Cadmium Windows Mobile   \n",
       "1759                      NaN           LG DTV 2021 MTK LM21A UHD TV Smart TV   \n",
       "6812                      NaN                             Apple iPhone 11 Pro   \n",
       "1965                      NaN         Samsung CE 2020 Kant-S2 UHD TV Smart TV   \n",
       "\n",
       "       Bookmark  Latest Bookmark        Country  \n",
       "10632  00:00:05         00:00:05    UG (Uganda)  \n",
       "861    00:12:34  Not latest view    UG (Uganda)  \n",
       "13789  00:44:21         00:44:21    SE (Sweden)  \n",
       "4414   00:11:45  Not latest view  ET (Ethiopia)  \n",
       "14006  01:46:34         01:46:34    SE (Sweden)  \n",
       "15260  00:20:46         00:20:46    SE (Sweden)  \n",
       "14093  00:19:34  Not latest view    SE (Sweden)  \n",
       "1759   00:54:22         00:54:22  ET (Ethiopia)  \n",
       "6812   00:00:54  Not latest view    UG (Uganda)  \n",
       "1965   00:04:17         00:04:17    ZM (Zambia)  "
      ]
     },
     "execution_count": 180,
     "metadata": {},
     "output_type": "execute_result"
    }
   ],
   "source": [
    "#returns a random sample of 10 rows\n",
    "df.sample(n=10)"
   ]
  },
  {
   "cell_type": "markdown",
   "id": "3a22ab8a",
   "metadata": {},
   "source": [
    "Let's look at the profile Names"
   ]
  },
  {
   "cell_type": "code",
   "execution_count": 181,
   "id": "5622c847",
   "metadata": {},
   "outputs": [
    {
     "data": {
      "text/plain": [
       "array([' ME', 'Arsy 😎', 'Enda Endrias ', 'Ida og Torstain', 'Zizu'],\n",
       "      dtype=object)"
      ]
     },
     "execution_count": 181,
     "metadata": {},
     "output_type": "execute_result"
    }
   ],
   "source": [
    "df[\"Profile Name\"].unique()"
   ]
  },
  {
   "cell_type": "markdown",
   "id": "a42e3040",
   "metadata": {},
   "source": [
    "As we can see here we have five profile names that are using this account "
   ]
  },
  {
   "cell_type": "markdown",
   "id": "95e3aa37",
   "metadata": {},
   "source": [
    "Now let's look at the device type"
   ]
  },
  {
   "cell_type": "code",
   "execution_count": 183,
   "id": "97582425",
   "metadata": {},
   "outputs": [
    {
     "data": {
      "text/plain": [
       "array(['Android DefaultWidevineL3Phone Android Phone',\n",
       "       'Apple iPhone 11 Pro', 'Sony PS5',\n",
       "       'Philips 2017 UHD Smart TV w/o DoVi Smart TV',\n",
       "       'Hisense MSD6886 5.1 UHD TV without DV Smart TV',\n",
       "       'Apple iPhone 13 Pro Max',\n",
       "       'Netflix Windows App - Cadmium Windows Mobile',\n",
       "       'Samsung CE 2020 Kant-S2 UHD TV Smart TV',\n",
       "       'LG DTV 2021 MTK LM21A UHD TV Smart TV',\n",
       "       'Sony Simple TV 2016 Tan Smart TV',\n",
       "       'Hisense MSD6683 6.0 FHD TV Smart TV',\n",
       "       'Samsung CE 2019 Muse-L UHD TV Smart TV', 'iPad Mini 2 WiFi',\n",
       "       'Apple iPhone X (GSM)', 'DefaultWidevineAndroidPhone',\n",
       "       'Chrome PC (Cadmium)', 'LG 2017 RTK K3Lp Standard UHD TV Smart TV',\n",
       "       'Samsung 2014 MStar DTV', 'Netflix Chrome MAC (Cadmium) HTML 5',\n",
       "       'Apple iPhone 14 Pro iPhone', 'Apple iPhone XS',\n",
       "       'Google Chromecast V5 Streaming Stick',\n",
       "       'Apple Apple TV 4 Apple TV', 'Safari MAC (Cadmium)',\n",
       "       'Apple iPhone 13', 'DefaultWidevineAndroidTablets'], dtype=object)"
      ]
     },
     "execution_count": 183,
     "metadata": {},
     "output_type": "execute_result"
    }
   ],
   "source": [
    "df[\"Device Type\"].unique()"
   ]
  },
  {
   "cell_type": "markdown",
   "id": "a2060687",
   "metadata": {},
   "source": [
    "It showing that there are several different devices and browsers that are used to watch Netlfix"
   ]
  },
  {
   "cell_type": "markdown",
   "id": "388be737",
   "metadata": {},
   "source": [
    "# After having the first impression of the data, the are several questions that come to mind:\n"
   ]
  },
  {
   "cell_type": "markdown",
   "id": "969e5bab",
   "metadata": {},
   "source": [
    "- Which Profile watched the most (time)?\n",
    "- Which Profile has the most watching activities/interactions?\n",
    "- What is the average watching time (per Profile)?\n",
    "- What devices are used by which Profile? And which device is used the most?"
   ]
  },
  {
   "cell_type": "markdown",
   "id": "ddafbec2",
   "metadata": {},
   "source": [
    "In the next step before we can work with the data in more detail, we need to understand the underlying data types."
   ]
  },
  {
   "cell_type": "code",
   "execution_count": 184,
   "id": "35884bad",
   "metadata": {},
   "outputs": [
    {
     "data": {
      "text/plain": [
       "Profile Name               object\n",
       "Start Time                 object\n",
       "Duration                   object\n",
       "Attributes                 object\n",
       "Title                      object\n",
       "Supplemental Video Type    object\n",
       "Device Type                object\n",
       "Bookmark                   object\n",
       "Latest Bookmark            object\n",
       "Country                    object\n",
       "dtype: object"
      ]
     },
     "execution_count": 184,
     "metadata": {},
     "output_type": "execute_result"
    }
   ],
   "source": [
    "df.dtypes"
   ]
  },
  {
   "cell_type": "markdown",
   "id": "14a4f68c",
   "metadata": {},
   "source": [
    "It's apparent that all columns in the dataset store data in the object data type, which can be problematic if we need to work with time-related information such as dates, times, and durations. In order to properly analyze overall viewing times, we will need to transform the data into a more suitable format"
   ]
  },
  {
   "cell_type": "code",
   "execution_count": 185,
   "id": "3986f570",
   "metadata": {},
   "outputs": [
    {
     "data": {
      "text/plain": [
       "Profile Name                            object\n",
       "Start Time                 datetime64[ns, UTC]\n",
       "Duration                       timedelta64[ns]\n",
       "Attributes                              object\n",
       "Title                                   object\n",
       "Supplemental Video Type                 object\n",
       "Device Type                             object\n",
       "Bookmark                                object\n",
       "Latest Bookmark                         object\n",
       "Country                                 object\n",
       "dtype: object"
      ]
     },
     "execution_count": 185,
     "metadata": {},
     "output_type": "execute_result"
    }
   ],
   "source": [
    "df['Start Time'] = pd.to_datetime(df['Start Time'], utc=True)\n",
    "df['Duration'] = pd.to_timedelta(df['Duration'])\n",
    "df.dtypes"
   ]
  },
  {
   "cell_type": "markdown",
   "id": "51652cd0",
   "metadata": {},
   "source": [
    "The 'Start Time' and 'Duration' columns have been reformatted into a more suitable format that is easier to work with. We can now examine another sample of the data to see how the data representation has been altered."
   ]
  },
  {
   "cell_type": "code",
   "execution_count": 186,
   "id": "b94b185d",
   "metadata": {},
   "outputs": [
    {
     "data": {
      "text/html": [
       "<div>\n",
       "<style scoped>\n",
       "    .dataframe tbody tr th:only-of-type {\n",
       "        vertical-align: middle;\n",
       "    }\n",
       "\n",
       "    .dataframe tbody tr th {\n",
       "        vertical-align: top;\n",
       "    }\n",
       "\n",
       "    .dataframe thead th {\n",
       "        text-align: right;\n",
       "    }\n",
       "</style>\n",
       "<table border=\"1\" class=\"dataframe\">\n",
       "  <thead>\n",
       "    <tr style=\"text-align: right;\">\n",
       "      <th></th>\n",
       "      <th>Profile Name</th>\n",
       "      <th>Start Time</th>\n",
       "      <th>Duration</th>\n",
       "      <th>Attributes</th>\n",
       "      <th>Title</th>\n",
       "      <th>Supplemental Video Type</th>\n",
       "      <th>Device Type</th>\n",
       "      <th>Bookmark</th>\n",
       "      <th>Latest Bookmark</th>\n",
       "      <th>Country</th>\n",
       "    </tr>\n",
       "  </thead>\n",
       "  <tbody>\n",
       "    <tr>\n",
       "      <th>3202</th>\n",
       "      <td>ME</td>\n",
       "      <td>2021-10-17 13:35:47+00:00</td>\n",
       "      <td>0 days 00:00:46</td>\n",
       "      <td>Autoplayed: user action: None;</td>\n",
       "      <td>Maid: Limited Series: Dollar Store (Episode 1)</td>\n",
       "      <td>NaN</td>\n",
       "      <td>LG DTV 2021 MTK LM21A UHD TV Smart TV</td>\n",
       "      <td>00:00:46</td>\n",
       "      <td>Not latest view</td>\n",
       "      <td>ET (Ethiopia)</td>\n",
       "    </tr>\n",
       "    <tr>\n",
       "      <th>4534</th>\n",
       "      <td>ME</td>\n",
       "      <td>2021-07-04 21:10:59+00:00</td>\n",
       "      <td>0 days 00:00:07</td>\n",
       "      <td>Autoplayed: user action: User_Interaction;</td>\n",
       "      <td>New Girl: Season 1: Pilot (Episode 1)</td>\n",
       "      <td>NaN</td>\n",
       "      <td>Samsung CE 2019 Muse-L UHD TV Smart TV</td>\n",
       "      <td>00:00:07</td>\n",
       "      <td>00:00:07</td>\n",
       "      <td>ET (Ethiopia)</td>\n",
       "    </tr>\n",
       "    <tr>\n",
       "      <th>14870</th>\n",
       "      <td>Zizu</td>\n",
       "      <td>2021-07-31 09:37:19+00:00</td>\n",
       "      <td>0 days 00:24:34</td>\n",
       "      <td>Autoplayed: user action: User_Interaction;</td>\n",
       "      <td>Heist: Season 1: The Bourbon King, Part 2 (Epi...</td>\n",
       "      <td>NaN</td>\n",
       "      <td>Samsung CE 2019 Muse-L UHD TV Smart TV</td>\n",
       "      <td>00:34:05</td>\n",
       "      <td>00:34:05</td>\n",
       "      <td>ET (Ethiopia)</td>\n",
       "    </tr>\n",
       "    <tr>\n",
       "      <th>13405</th>\n",
       "      <td>Zizu</td>\n",
       "      <td>2022-11-10 09:19:06+00:00</td>\n",
       "      <td>0 days 00:00:06</td>\n",
       "      <td>Autoplayed: user action: None;</td>\n",
       "      <td>Season 3 High Context Clip 2: Love Is Blind</td>\n",
       "      <td>HOOK</td>\n",
       "      <td>Samsung CE 2020 Kant-S2 UHD TV Smart TV</td>\n",
       "      <td>00:00:06</td>\n",
       "      <td>00:00:06</td>\n",
       "      <td>NO (Norway)</td>\n",
       "    </tr>\n",
       "    <tr>\n",
       "      <th>4191</th>\n",
       "      <td>ME</td>\n",
       "      <td>2021-07-26 16:12:05+00:00</td>\n",
       "      <td>0 days 00:00:59</td>\n",
       "      <td>Autoplayed: user action: None;</td>\n",
       "      <td>Hitch_hook_primary_16x9</td>\n",
       "      <td>HOOK</td>\n",
       "      <td>LG DTV 2021 MTK LM21A UHD TV Smart TV</td>\n",
       "      <td>00:00:59</td>\n",
       "      <td>Not latest view</td>\n",
       "      <td>ET (Ethiopia)</td>\n",
       "    </tr>\n",
       "    <tr>\n",
       "      <th>11135</th>\n",
       "      <td>Enda Endrias</td>\n",
       "      <td>2020-09-22 10:19:30+00:00</td>\n",
       "      <td>0 days 01:18:10</td>\n",
       "      <td>NaN</td>\n",
       "      <td>The Social Dilemma</td>\n",
       "      <td>NaN</td>\n",
       "      <td>Netflix Windows App - Cadmium Windows Mobile</td>\n",
       "      <td>00:31:33</td>\n",
       "      <td>00:31:33</td>\n",
       "      <td>GB (United Kingdom)</td>\n",
       "    </tr>\n",
       "    <tr>\n",
       "      <th>1097</th>\n",
       "      <td>ME</td>\n",
       "      <td>2022-07-09 12:27:28+00:00</td>\n",
       "      <td>0 days 00:10:37</td>\n",
       "      <td>NaN</td>\n",
       "      <td>Peaky Blinders: Season 6: The Road to Hell (Ep...</td>\n",
       "      <td>NaN</td>\n",
       "      <td>Netflix Windows App - Cadmium Windows Mobile</td>\n",
       "      <td>00:58:17</td>\n",
       "      <td>00:58:17</td>\n",
       "      <td>IT (Italy)</td>\n",
       "    </tr>\n",
       "    <tr>\n",
       "      <th>14581</th>\n",
       "      <td>Zizu</td>\n",
       "      <td>2021-11-06 18:33:04+00:00</td>\n",
       "      <td>0 days 00:16:48</td>\n",
       "      <td>NaN</td>\n",
       "      <td>Army of Thieves</td>\n",
       "      <td>NaN</td>\n",
       "      <td>Samsung CE 2019 Muse-L UHD TV Smart TV</td>\n",
       "      <td>01:43:18</td>\n",
       "      <td>Not latest view</td>\n",
       "      <td>ET (Ethiopia)</td>\n",
       "    </tr>\n",
       "    <tr>\n",
       "      <th>4623</th>\n",
       "      <td>ME</td>\n",
       "      <td>2021-06-25 17:42:12+00:00</td>\n",
       "      <td>0 days 00:00:03</td>\n",
       "      <td>Autoplayed: user action: None;</td>\n",
       "      <td>The Holiday</td>\n",
       "      <td>NaN</td>\n",
       "      <td>LG DTV 2021 MTK LM21A UHD TV Smart TV</td>\n",
       "      <td>00:00:03</td>\n",
       "      <td>Not latest view</td>\n",
       "      <td>ET (Ethiopia)</td>\n",
       "    </tr>\n",
       "    <tr>\n",
       "      <th>13978</th>\n",
       "      <td>Zizu</td>\n",
       "      <td>2022-05-16 18:27:33+00:00</td>\n",
       "      <td>0 days 00:18:46</td>\n",
       "      <td>NaN</td>\n",
       "      <td>Summertime: Season 3: Episode 3</td>\n",
       "      <td>NaN</td>\n",
       "      <td>DefaultWidevineAndroidPhone</td>\n",
       "      <td>00:18:51</td>\n",
       "      <td>Not latest view</td>\n",
       "      <td>SE (Sweden)</td>\n",
       "    </tr>\n",
       "  </tbody>\n",
       "</table>\n",
       "</div>"
      ],
      "text/plain": [
       "        Profile Name                Start Time        Duration  \\\n",
       "3202              ME 2021-10-17 13:35:47+00:00 0 days 00:00:46   \n",
       "4534              ME 2021-07-04 21:10:59+00:00 0 days 00:00:07   \n",
       "14870           Zizu 2021-07-31 09:37:19+00:00 0 days 00:24:34   \n",
       "13405           Zizu 2022-11-10 09:19:06+00:00 0 days 00:00:06   \n",
       "4191              ME 2021-07-26 16:12:05+00:00 0 days 00:00:59   \n",
       "11135  Enda Endrias  2020-09-22 10:19:30+00:00 0 days 01:18:10   \n",
       "1097              ME 2022-07-09 12:27:28+00:00 0 days 00:10:37   \n",
       "14581           Zizu 2021-11-06 18:33:04+00:00 0 days 00:16:48   \n",
       "4623              ME 2021-06-25 17:42:12+00:00 0 days 00:00:03   \n",
       "13978           Zizu 2022-05-16 18:27:33+00:00 0 days 00:18:46   \n",
       "\n",
       "                                        Attributes  \\\n",
       "3202               Autoplayed: user action: None;    \n",
       "4534   Autoplayed: user action: User_Interaction;    \n",
       "14870  Autoplayed: user action: User_Interaction;    \n",
       "13405              Autoplayed: user action: None;    \n",
       "4191               Autoplayed: user action: None;    \n",
       "11135                                          NaN   \n",
       "1097                                           NaN   \n",
       "14581                                          NaN   \n",
       "4623               Autoplayed: user action: None;    \n",
       "13978                                          NaN   \n",
       "\n",
       "                                                   Title  \\\n",
       "3202      Maid: Limited Series: Dollar Store (Episode 1)   \n",
       "4534               New Girl: Season 1: Pilot (Episode 1)   \n",
       "14870  Heist: Season 1: The Bourbon King, Part 2 (Epi...   \n",
       "13405        Season 3 High Context Clip 2: Love Is Blind   \n",
       "4191                             Hitch_hook_primary_16x9   \n",
       "11135                                 The Social Dilemma   \n",
       "1097   Peaky Blinders: Season 6: The Road to Hell (Ep...   \n",
       "14581                                    Army of Thieves   \n",
       "4623                                         The Holiday   \n",
       "13978                    Summertime: Season 3: Episode 3   \n",
       "\n",
       "      Supplemental Video Type                                   Device Type  \\\n",
       "3202                      NaN         LG DTV 2021 MTK LM21A UHD TV Smart TV   \n",
       "4534                      NaN        Samsung CE 2019 Muse-L UHD TV Smart TV   \n",
       "14870                     NaN        Samsung CE 2019 Muse-L UHD TV Smart TV   \n",
       "13405                    HOOK       Samsung CE 2020 Kant-S2 UHD TV Smart TV   \n",
       "4191                     HOOK         LG DTV 2021 MTK LM21A UHD TV Smart TV   \n",
       "11135                     NaN  Netflix Windows App - Cadmium Windows Mobile   \n",
       "1097                      NaN  Netflix Windows App - Cadmium Windows Mobile   \n",
       "14581                     NaN        Samsung CE 2019 Muse-L UHD TV Smart TV   \n",
       "4623                      NaN         LG DTV 2021 MTK LM21A UHD TV Smart TV   \n",
       "13978                     NaN                   DefaultWidevineAndroidPhone   \n",
       "\n",
       "       Bookmark  Latest Bookmark              Country  \n",
       "3202   00:00:46  Not latest view        ET (Ethiopia)  \n",
       "4534   00:00:07         00:00:07        ET (Ethiopia)  \n",
       "14870  00:34:05         00:34:05        ET (Ethiopia)  \n",
       "13405  00:00:06         00:00:06          NO (Norway)  \n",
       "4191   00:00:59  Not latest view        ET (Ethiopia)  \n",
       "11135  00:31:33         00:31:33  GB (United Kingdom)  \n",
       "1097   00:58:17         00:58:17           IT (Italy)  \n",
       "14581  01:43:18  Not latest view        ET (Ethiopia)  \n",
       "4623   00:00:03  Not latest view        ET (Ethiopia)  \n",
       "13978  00:18:51  Not latest view          SE (Sweden)  "
      ]
     },
     "execution_count": 186,
     "metadata": {},
     "output_type": "execute_result"
    }
   ],
   "source": [
    "df.sample(n=10)     #returns a random sample of 10 rows"
   ]
  },
  {
   "cell_type": "markdown",
   "id": "27069507",
   "metadata": {},
   "source": [
    "# Now, we need to find answers to our questions, and the most effective approach is to visually represent the data."
   ]
  },
  {
   "cell_type": "markdown",
   "id": "d24b50cc",
   "metadata": {},
   "source": [
    "- Which Profile watched the most (time)?"
   ]
  },
  {
   "cell_type": "markdown",
   "id": "7232d000",
   "metadata": {},
   "source": [
    "We can once again utilize the 'DataFrame.value_counts()' method to compute the frequency of row occurrences for each Profile."
   ]
  },
  {
   "cell_type": "code",
   "execution_count": 187,
   "id": "20142bc9",
   "metadata": {},
   "outputs": [
    {
     "data": {
      "text/plain": [
       " ME                5340\n",
       "Arsy 😎             5165\n",
       "Zizu               3134\n",
       "Ida og Torstain    1309\n",
       "Enda Endrias       1003\n",
       "Name: Profile Name, dtype: int64"
      ]
     },
     "execution_count": 187,
     "metadata": {},
     "output_type": "execute_result"
    }
   ],
   "source": [
    "df['Profile Name'].value_counts()"
   ]
  },
  {
   "cell_type": "markdown",
   "id": "ec803b6c",
   "metadata": {},
   "source": [
    "It seems that \"ME\" is having the most viewing interaction, it feels like as we saw on the first part of the process there were a lot of devices that were watching with this device so it could be that there are are several people watching with same profile a lot. But it's not sure so let's visualize it and see what are the results.\n"
   ]
  },
  {
   "cell_type": "markdown",
   "id": "0d8e37b7",
   "metadata": {},
   "source": [
    "Using matplotlib it is really easy to visualize this."
   ]
  },
  {
   "cell_type": "code",
   "execution_count": 188,
   "id": "d7744f60",
   "metadata": {},
   "outputs": [
    {
     "data": {
      "image/png": "[encoded data removed]",
      "text/plain": [
       "<Figure size 432x288 with 1 Axes>"
      ]
     },
     "metadata": {
      "needs_background": "light"
     },
     "output_type": "display_data"
    }
   ],
   "source": [
    "%matplotlib inline\n",
    "import matplotlib\n",
    "import matplotlib.pyplot as plt\n",
    "df['Profile Name'].value_counts().plot(kind='bar')\n",
    "plt.show()"
   ]
  },
  {
   "cell_type": "markdown",
   "id": "6373bd25",
   "metadata": {},
   "source": [
    "- Which Profile watched the most (time)?"
   ]
  },
  {
   "cell_type": "markdown",
   "id": "d65b9f20",
   "metadata": {},
   "source": [
    "Let’s first check the overall viewing duration for all Profiles."
   ]
  },
  {
   "cell_type": "code",
   "execution_count": 189,
   "id": "3f0dfaff",
   "metadata": {},
   "outputs": [
    {
     "data": {
      "text/plain": [
       "Timedelta('232 days 22:38:18')"
      ]
     },
     "execution_count": 189,
     "metadata": {},
     "output_type": "execute_result"
    }
   ],
   "source": [
    "df['Duration'].sum()"
   ]
  },
  {
   "cell_type": "markdown",
   "id": "7086aca2",
   "metadata": {},
   "source": [
    "To set the overall viewing duration of >232 days into some context. The data was logged for 5 years from March 2018 to March 2023."
   ]
  },
  {
   "cell_type": "code",
   "execution_count": 190,
   "id": "f25f456f",
   "metadata": {},
   "outputs": [
    {
     "data": {
      "text/html": [
       "<div>\n",
       "<style scoped>\n",
       "    .dataframe tbody tr th:only-of-type {\n",
       "        vertical-align: middle;\n",
       "    }\n",
       "\n",
       "    .dataframe tbody tr th {\n",
       "        vertical-align: top;\n",
       "    }\n",
       "\n",
       "    .dataframe thead th {\n",
       "        text-align: right;\n",
       "    }\n",
       "</style>\n",
       "<table border=\"1\" class=\"dataframe\">\n",
       "  <thead>\n",
       "    <tr style=\"text-align: right;\">\n",
       "      <th></th>\n",
       "      <th>Profile Name</th>\n",
       "      <th>Start Time</th>\n",
       "      <th>Duration</th>\n",
       "      <th>Attributes</th>\n",
       "      <th>Title</th>\n",
       "      <th>Supplemental Video Type</th>\n",
       "      <th>Device Type</th>\n",
       "      <th>Bookmark</th>\n",
       "      <th>Latest Bookmark</th>\n",
       "      <th>Country</th>\n",
       "    </tr>\n",
       "  </thead>\n",
       "  <tbody>\n",
       "    <tr>\n",
       "      <th>10504</th>\n",
       "      <td>Arsy 😎</td>\n",
       "      <td>2018-03-21 19:12:27+00:00</td>\n",
       "      <td>0 days 01:52:27</td>\n",
       "      <td>Autoplayed: user action: Unspecified;</td>\n",
       "      <td>How to Lose a Guy in 10 Days</td>\n",
       "      <td>NaN</td>\n",
       "      <td>Samsung 2014 MStar DTV</td>\n",
       "      <td>01:52:27</td>\n",
       "      <td>01:52:27</td>\n",
       "      <td>NO (Norway)</td>\n",
       "    </tr>\n",
       "    <tr>\n",
       "      <th>10503</th>\n",
       "      <td>Arsy 😎</td>\n",
       "      <td>2018-03-21 21:06:10+00:00</td>\n",
       "      <td>0 days 00:53:43</td>\n",
       "      <td>NaN</td>\n",
       "      <td>Narcos: Season 1: There Will Be a Future (Epis...</td>\n",
       "      <td>NaN</td>\n",
       "      <td>Samsung 2014 MStar DTV</td>\n",
       "      <td>00:53:43</td>\n",
       "      <td>00:53:43</td>\n",
       "      <td>NO (Norway)</td>\n",
       "    </tr>\n",
       "    <tr>\n",
       "      <th>10502</th>\n",
       "      <td>Arsy 😎</td>\n",
       "      <td>2018-03-21 22:37:03+00:00</td>\n",
       "      <td>0 days 00:47:07</td>\n",
       "      <td>Autoplayed: user action: Unspecified;</td>\n",
       "      <td>Narcos: Season 1: Explosivos (Episode 6)</td>\n",
       "      <td>NaN</td>\n",
       "      <td>Samsung 2014 MStar DTV</td>\n",
       "      <td>00:48:34</td>\n",
       "      <td>00:48:34</td>\n",
       "      <td>NO (Norway)</td>\n",
       "    </tr>\n",
       "    <tr>\n",
       "      <th>10501</th>\n",
       "      <td>Arsy 😎</td>\n",
       "      <td>2018-03-21 23:24:41+00:00</td>\n",
       "      <td>0 days 00:14:10</td>\n",
       "      <td>Autoplayed: user action: Unspecified;</td>\n",
       "      <td>Narcos: Season 1: You Will Cry Tears of Blood ...</td>\n",
       "      <td>NaN</td>\n",
       "      <td>Samsung 2014 MStar DTV</td>\n",
       "      <td>00:15:46</td>\n",
       "      <td>Not latest view</td>\n",
       "      <td>NO (Norway)</td>\n",
       "    </tr>\n",
       "    <tr>\n",
       "      <th>10500</th>\n",
       "      <td>Arsy 😎</td>\n",
       "      <td>2018-03-22 13:58:54+00:00</td>\n",
       "      <td>0 days 00:34:08</td>\n",
       "      <td>Autoplayed: user action: Unspecified;</td>\n",
       "      <td>Narcos: Season 1: You Will Cry Tears of Blood ...</td>\n",
       "      <td>NaN</td>\n",
       "      <td>Samsung 2014 MStar DTV</td>\n",
       "      <td>00:49:49</td>\n",
       "      <td>00:49:49</td>\n",
       "      <td>NO (Norway)</td>\n",
       "    </tr>\n",
       "    <tr>\n",
       "      <th>...</th>\n",
       "      <td>...</td>\n",
       "      <td>...</td>\n",
       "      <td>...</td>\n",
       "      <td>...</td>\n",
       "      <td>...</td>\n",
       "      <td>...</td>\n",
       "      <td>...</td>\n",
       "      <td>...</td>\n",
       "      <td>...</td>\n",
       "      <td>...</td>\n",
       "    </tr>\n",
       "    <tr>\n",
       "      <th>12821</th>\n",
       "      <td>Zizu</td>\n",
       "      <td>2023-03-13 11:06:37+00:00</td>\n",
       "      <td>0 days 00:00:11</td>\n",
       "      <td>Autoplayed: user action: None;</td>\n",
       "      <td>Triple Frontier (Trailer)</td>\n",
       "      <td>TRAILER</td>\n",
       "      <td>Safari MAC (Cadmium)</td>\n",
       "      <td>00:00:11</td>\n",
       "      <td>00:00:11</td>\n",
       "      <td>SE (Sweden)</td>\n",
       "    </tr>\n",
       "    <tr>\n",
       "      <th>12820</th>\n",
       "      <td>Zizu</td>\n",
       "      <td>2023-03-13 18:41:08+00:00</td>\n",
       "      <td>0 days 00:02:16</td>\n",
       "      <td>NaN</td>\n",
       "      <td>Season 1 Trailer: Rana Naidu</td>\n",
       "      <td>TRAILER</td>\n",
       "      <td>Safari MAC (Cadmium)</td>\n",
       "      <td>00:00:00</td>\n",
       "      <td>00:00:00</td>\n",
       "      <td>SE (Sweden)</td>\n",
       "    </tr>\n",
       "    <tr>\n",
       "      <th>12819</th>\n",
       "      <td>Zizu</td>\n",
       "      <td>2023-03-13 18:41:17+00:00</td>\n",
       "      <td>0 days 00:00:12</td>\n",
       "      <td>Autoplayed: user action: None;</td>\n",
       "      <td>The Last Kingdom: Season 5 - CLM 1</td>\n",
       "      <td>HOOK</td>\n",
       "      <td>Safari MAC (Cadmium)</td>\n",
       "      <td>00:00:12</td>\n",
       "      <td>00:00:12</td>\n",
       "      <td>SE (Sweden)</td>\n",
       "    </tr>\n",
       "    <tr>\n",
       "      <th>12818</th>\n",
       "      <td>Zizu</td>\n",
       "      <td>2023-03-14 13:00:48+00:00</td>\n",
       "      <td>0 days 00:00:20</td>\n",
       "      <td>Autoplayed: user action: None;</td>\n",
       "      <td>Shadowhunters: The Mortal Instruments: Season ...</td>\n",
       "      <td>TRAILER</td>\n",
       "      <td>Apple iPhone 13 Pro Max</td>\n",
       "      <td>00:00:20</td>\n",
       "      <td>Not latest view</td>\n",
       "      <td>SE (Sweden)</td>\n",
       "    </tr>\n",
       "    <tr>\n",
       "      <th>12817</th>\n",
       "      <td>Zizu</td>\n",
       "      <td>2023-03-14 13:01:09+00:00</td>\n",
       "      <td>0 days 00:00:10</td>\n",
       "      <td>Autoplayed: user action: None;</td>\n",
       "      <td>Shadowhunters: The Mortal Instruments: Season ...</td>\n",
       "      <td>TRAILER</td>\n",
       "      <td>Apple iPhone 13 Pro Max</td>\n",
       "      <td>00:00:10</td>\n",
       "      <td>00:00:10</td>\n",
       "      <td>SE (Sweden)</td>\n",
       "    </tr>\n",
       "  </tbody>\n",
       "</table>\n",
       "<p>15951 rows × 10 columns</p>\n",
       "</div>"
      ],
      "text/plain": [
       "      Profile Name                Start Time        Duration  \\\n",
       "10504       Arsy 😎 2018-03-21 19:12:27+00:00 0 days 01:52:27   \n",
       "10503       Arsy 😎 2018-03-21 21:06:10+00:00 0 days 00:53:43   \n",
       "10502       Arsy 😎 2018-03-21 22:37:03+00:00 0 days 00:47:07   \n",
       "10501       Arsy 😎 2018-03-21 23:24:41+00:00 0 days 00:14:10   \n",
       "10500       Arsy 😎 2018-03-22 13:58:54+00:00 0 days 00:34:08   \n",
       "...            ...                       ...             ...   \n",
       "12821         Zizu 2023-03-13 11:06:37+00:00 0 days 00:00:11   \n",
       "12820         Zizu 2023-03-13 18:41:08+00:00 0 days 00:02:16   \n",
       "12819         Zizu 2023-03-13 18:41:17+00:00 0 days 00:00:12   \n",
       "12818         Zizu 2023-03-14 13:00:48+00:00 0 days 00:00:20   \n",
       "12817         Zizu 2023-03-14 13:01:09+00:00 0 days 00:00:10   \n",
       "\n",
       "                                   Attributes  \\\n",
       "10504  Autoplayed: user action: Unspecified;    \n",
       "10503                                     NaN   \n",
       "10502  Autoplayed: user action: Unspecified;    \n",
       "10501  Autoplayed: user action: Unspecified;    \n",
       "10500  Autoplayed: user action: Unspecified;    \n",
       "...                                       ...   \n",
       "12821         Autoplayed: user action: None;    \n",
       "12820                                     NaN   \n",
       "12819         Autoplayed: user action: None;    \n",
       "12818         Autoplayed: user action: None;    \n",
       "12817         Autoplayed: user action: None;    \n",
       "\n",
       "                                                   Title  \\\n",
       "10504                       How to Lose a Guy in 10 Days   \n",
       "10503  Narcos: Season 1: There Will Be a Future (Epis...   \n",
       "10502           Narcos: Season 1: Explosivos (Episode 6)   \n",
       "10501  Narcos: Season 1: You Will Cry Tears of Blood ...   \n",
       "10500  Narcos: Season 1: You Will Cry Tears of Blood ...   \n",
       "...                                                  ...   \n",
       "12821                          Triple Frontier (Trailer)   \n",
       "12820                       Season 1 Trailer: Rana Naidu   \n",
       "12819                 The Last Kingdom: Season 5 - CLM 1   \n",
       "12818  Shadowhunters: The Mortal Instruments: Season ...   \n",
       "12817  Shadowhunters: The Mortal Instruments: Season ...   \n",
       "\n",
       "      Supplemental Video Type              Device Type  Bookmark  \\\n",
       "10504                     NaN   Samsung 2014 MStar DTV  01:52:27   \n",
       "10503                     NaN   Samsung 2014 MStar DTV  00:53:43   \n",
       "10502                     NaN   Samsung 2014 MStar DTV  00:48:34   \n",
       "10501                     NaN   Samsung 2014 MStar DTV  00:15:46   \n",
       "10500                     NaN   Samsung 2014 MStar DTV  00:49:49   \n",
       "...                       ...                      ...       ...   \n",
       "12821                 TRAILER     Safari MAC (Cadmium)  00:00:11   \n",
       "12820                 TRAILER     Safari MAC (Cadmium)  00:00:00   \n",
       "12819                    HOOK     Safari MAC (Cadmium)  00:00:12   \n",
       "12818                 TRAILER  Apple iPhone 13 Pro Max  00:00:20   \n",
       "12817                 TRAILER  Apple iPhone 13 Pro Max  00:00:10   \n",
       "\n",
       "       Latest Bookmark      Country  \n",
       "10504         01:52:27  NO (Norway)  \n",
       "10503         00:53:43  NO (Norway)  \n",
       "10502         00:48:34  NO (Norway)  \n",
       "10501  Not latest view  NO (Norway)  \n",
       "10500         00:49:49  NO (Norway)  \n",
       "...                ...          ...  \n",
       "12821         00:00:11  SE (Sweden)  \n",
       "12820         00:00:00  SE (Sweden)  \n",
       "12819         00:00:12  SE (Sweden)  \n",
       "12818  Not latest view  SE (Sweden)  \n",
       "12817         00:00:10  SE (Sweden)  \n",
       "\n",
       "[15951 rows x 10 columns]"
      ]
     },
     "execution_count": 190,
     "metadata": {},
     "output_type": "execute_result"
    }
   ],
   "source": [
    "df.sort_values('Start Time')"
   ]
  },
  {
   "cell_type": "markdown",
   "id": "6f25c41e",
   "metadata": {},
   "source": [
    "We can easily summarize the viewing duration for each profile."
   ]
  },
  {
   "cell_type": "code",
   "execution_count": 191,
   "id": "9134fc21",
   "metadata": {},
   "outputs": [
    {
     "data": {
      "text/plain": [
       "Timedelta('61 days 19:14:38')"
      ]
     },
     "execution_count": 191,
     "metadata": {},
     "output_type": "execute_result"
    }
   ],
   "source": [
    "df.loc[df['Profile Name']==' ME','Duration'].sum()"
   ]
  },
  {
   "cell_type": "code",
   "execution_count": 192,
   "id": "a4b7ce3e",
   "metadata": {},
   "outputs": [
    {
     "data": {
      "text/plain": [
       "Timedelta('76 days 09:25:03')"
      ]
     },
     "execution_count": 192,
     "metadata": {},
     "output_type": "execute_result"
    }
   ],
   "source": [
    "df.loc[df['Profile Name']=='Arsy 😎','Duration'].sum()"
   ]
  },
  {
   "cell_type": "code",
   "execution_count": 193,
   "id": "30d1f43d",
   "metadata": {},
   "outputs": [
    {
     "data": {
      "text/plain": [
       "Timedelta('53 days 22:38:08')"
      ]
     },
     "execution_count": 193,
     "metadata": {},
     "output_type": "execute_result"
    }
   ],
   "source": [
    "df.loc[df['Profile Name']=='Zizu','Duration'].sum()"
   ]
  },
  {
   "cell_type": "code",
   "execution_count": 194,
   "id": "ffc2ab5e",
   "metadata": {},
   "outputs": [
    {
     "data": {
      "text/plain": [
       "Timedelta('25 days 22:10:23')"
      ]
     },
     "execution_count": 194,
     "metadata": {},
     "output_type": "execute_result"
    }
   ],
   "source": [
    "df.loc[df['Profile Name']=='Ida og Torstain','Duration'].sum()"
   ]
  },
  {
   "cell_type": "code",
   "execution_count": 195,
   "id": "ebb55037",
   "metadata": {},
   "outputs": [
    {
     "data": {
      "text/plain": [
       "Timedelta('14 days 21:10:06')"
      ]
     },
     "execution_count": 195,
     "metadata": {},
     "output_type": "execute_result"
    }
   ],
   "source": [
    "df.loc[df['Profile Name']=='Enda Endrias ','Duration'].sum()"
   ]
  },
  {
   "cell_type": "markdown",
   "id": "b541ff0f",
   "metadata": {},
   "source": [
    "The visualization is not that easy, because a Timedelta is nothing that can be plotted using matplotlib. We need to run another transformation, using NumPy's astype method to transform it into seconds."
   ]
  },
  {
   "cell_type": "code",
   "execution_count": 196,
   "id": "4ff79881",
   "metadata": {},
   "outputs": [
    {
     "data": {
      "text/plain": [
       "5339678.0"
      ]
     },
     "execution_count": 196,
     "metadata": {},
     "output_type": "execute_result"
    }
   ],
   "source": [
    "df.loc[df['Profile Name']==' ME','Duration'].astype('timedelta64[s]').sum()"
   ]
  },
  {
   "cell_type": "markdown",
   "id": "90b45b89",
   "metadata": {},
   "source": [
    "Let’s create a helper dict viewTime to store the overall view time per Profile in seconds."
   ]
  },
  {
   "cell_type": "code",
   "execution_count": 197,
   "id": "5e3868ba",
   "metadata": {},
   "outputs": [
    {
     "data": {
      "text/plain": [
       "{' ME': 5339678.0,\n",
       " 'Arsy 😎': 6600303.0,\n",
       " 'Zizu': 4660688.0,\n",
       " 'Ida og Torstain': 2239823.0,\n",
       " 'Enda Endrias ': 1285806.0}"
      ]
     },
     "execution_count": 197,
     "metadata": {},
     "output_type": "execute_result"
    }
   ],
   "source": [
    "viewTime = {}\n",
    "viewTime.update({\" ME\": df.loc[df['Profile Name']==' ME','Duration'].astype('timedelta64[s]').sum()})\n",
    "viewTime.update({\"Arsy 😎\": df.loc[df['Profile Name']=='Arsy 😎','Duration'].astype('timedelta64[s]').sum()})\n",
    "viewTime.update({\"Zizu\": df.loc[df['Profile Name']=='Zizu','Duration'].astype('timedelta64[s]').sum()})\n",
    "viewTime.update({\"Ida og Torstain\": df.loc[df['Profile Name']=='Ida og Torstain','Duration'].astype('timedelta64[s]').sum()})\n",
    "viewTime.update({\"Enda Endrias \": df.loc[df['Profile Name']=='Enda Endrias ','Duration'].astype('timedelta64[s]').sum()})\n",
    "viewTime"
   ]
  },
  {
   "cell_type": "markdown",
   "id": "d7a0e470",
   "metadata": {},
   "source": [
    "Finally, we can plot it and have a look at the chart."
   ]
  },
  {
   "cell_type": "code",
   "execution_count": 198,
   "id": "a58d1be9",
   "metadata": {},
   "outputs": [
    {
     "data": {
      "image/png": "[encoded data removed]",
      "text/plain": [
       "<Figure size 432x288 with 1 Axes>"
      ]
     },
     "metadata": {
      "needs_background": "light"
     },
     "output_type": "display_data"
    }
   ],
   "source": [
    "%matplotlib inline\n",
    "import matplotlib\n",
    "import matplotlib.pyplot as plt\n",
    "plt.bar(*zip(*viewTime.items()))\n",
    "plt.show()"
   ]
  },
  {
   "cell_type": "markdown",
   "id": "c97eb832",
   "metadata": {},
   "source": [
    "- What is the average watching time (per Profile)?"
   ]
  },
  {
   "cell_type": "markdown",
   "id": "1b40129f",
   "metadata": {},
   "source": [
    "To analyze the average watching time per Profile, we must divide the overall watching duration by the number of views/interactions. Remember the value_counts() operation to get the overall view interactions per Profile."
   ]
  },
  {
   "cell_type": "code",
   "execution_count": 199,
   "id": "718cda73",
   "metadata": {},
   "outputs": [
    {
     "data": {
      "text/plain": [
       " ME                5340\n",
       "Arsy 😎             5165\n",
       "Zizu               3134\n",
       "Ida og Torstain    1309\n",
       "Enda Endrias       1003\n",
       "Name: Profile Name, dtype: int64"
      ]
     },
     "execution_count": 199,
     "metadata": {},
     "output_type": "execute_result"
    }
   ],
   "source": [
    "df['Profile Name'].value_counts()"
   ]
  },
  {
   "cell_type": "markdown",
   "id": "f9f0767e",
   "metadata": {},
   "source": [
    "Now we can divide the overall watching duration per Profile by these values."
   ]
  },
  {
   "cell_type": "code",
   "execution_count": 200,
   "id": "c31158f4",
   "metadata": {},
   "outputs": [
    {
     "data": {
      "text/plain": [
       "Timedelta('0 days 00:16:39.939700374')"
      ]
     },
     "execution_count": 200,
     "metadata": {},
     "output_type": "execute_result"
    }
   ],
   "source": [
    "df.loc[df['Profile Name']==' ME','Duration'].sum()/5340"
   ]
  },
  {
   "cell_type": "code",
   "execution_count": 201,
   "id": "14cb61bd",
   "metadata": {},
   "outputs": [
    {
     "data": {
      "text/plain": [
       "Timedelta('0 days 00:21:17.890222652')"
      ]
     },
     "execution_count": 201,
     "metadata": {},
     "output_type": "execute_result"
    }
   ],
   "source": [
    "df.loc[df['Profile Name']=='Arsy 😎','Duration'].sum()/5165"
   ]
  },
  {
   "cell_type": "code",
   "execution_count": 202,
   "id": "e156d691",
   "metadata": {},
   "outputs": [
    {
     "data": {
      "text/plain": [
       "Timedelta('0 days 00:24:47.137204850')"
      ]
     },
     "execution_count": 202,
     "metadata": {},
     "output_type": "execute_result"
    }
   ],
   "source": [
    "df.loc[df['Profile Name']=='Zizu','Duration'].sum()/3134"
   ]
  },
  {
   "cell_type": "code",
   "execution_count": 203,
   "id": "bb912d41",
   "metadata": {},
   "outputs": [
    {
     "data": {
      "text/plain": [
       "Timedelta('0 days 00:28:31.094728800')"
      ]
     },
     "execution_count": 203,
     "metadata": {},
     "output_type": "execute_result"
    }
   ],
   "source": [
    "df.loc[df['Profile Name']=='Ida og Torstain','Duration'].sum()/1309"
   ]
  },
  {
   "cell_type": "code",
   "execution_count": 204,
   "id": "4c2cce04",
   "metadata": {},
   "outputs": [
    {
     "data": {
      "text/plain": [
       "Timedelta('0 days 00:21:21.960119641')"
      ]
     },
     "execution_count": 204,
     "metadata": {},
     "output_type": "execute_result"
    }
   ],
   "source": [
    "df.loc[df['Profile Name']=='Enda Endrias ','Duration'].sum()/1003"
   ]
  },
  {
   "cell_type": "code",
   "execution_count": 205,
   "id": "c7697f90",
   "metadata": {},
   "outputs": [
    {
     "data": {
      "text/plain": [
       "HOOK              1509\n",
       "TRAILER            772\n",
       "TEASER_TRAILER     178\n",
       "PROMOTIONAL         98\n",
       "RECAP               21\n",
       "CINEMAGRAPH          2\n",
       "BUMPER               1\n",
       "PREVIEW              1\n",
       "Name: Supplemental Video Type, dtype: int64"
      ]
     },
     "execution_count": 205,
     "metadata": {},
     "output_type": "execute_result"
    }
   ],
   "source": [
    "df['Supplemental Video Type'].value_counts()"
   ]
  },
  {
   "cell_type": "code",
   "execution_count": 206,
   "id": "14d2e4a2",
   "metadata": {},
   "outputs": [
    {
     "data": {
      "text/html": [
       "<div>\n",
       "<style scoped>\n",
       "    .dataframe tbody tr th:only-of-type {\n",
       "        vertical-align: middle;\n",
       "    }\n",
       "\n",
       "    .dataframe tbody tr th {\n",
       "        vertical-align: top;\n",
       "    }\n",
       "\n",
       "    .dataframe thead th {\n",
       "        text-align: right;\n",
       "    }\n",
       "</style>\n",
       "<table border=\"1\" class=\"dataframe\">\n",
       "  <thead>\n",
       "    <tr style=\"text-align: right;\">\n",
       "      <th></th>\n",
       "      <th>Profile Name</th>\n",
       "      <th>Start Time</th>\n",
       "      <th>Duration</th>\n",
       "      <th>Attributes</th>\n",
       "      <th>Title</th>\n",
       "      <th>Supplemental Video Type</th>\n",
       "      <th>Device Type</th>\n",
       "      <th>Bookmark</th>\n",
       "      <th>Latest Bookmark</th>\n",
       "      <th>Country</th>\n",
       "    </tr>\n",
       "  </thead>\n",
       "  <tbody>\n",
       "    <tr>\n",
       "      <th>0</th>\n",
       "      <td>ME</td>\n",
       "      <td>2023-03-12 21:49:14+00:00</td>\n",
       "      <td>0 days 00:16:10</td>\n",
       "      <td>NaN</td>\n",
       "      <td>Really Love</td>\n",
       "      <td>NaN</td>\n",
       "      <td>Android DefaultWidevineL3Phone Android Phone</td>\n",
       "      <td>00:38:39</td>\n",
       "      <td>00:38:39</td>\n",
       "      <td>ET (Ethiopia)</td>\n",
       "    </tr>\n",
       "    <tr>\n",
       "      <th>1</th>\n",
       "      <td>ME</td>\n",
       "      <td>2023-03-12 21:43:36+00:00</td>\n",
       "      <td>0 days 00:05:04</td>\n",
       "      <td>NaN</td>\n",
       "      <td>Friends: Season 2: The One with the Chicken Po...</td>\n",
       "      <td>NaN</td>\n",
       "      <td>Android DefaultWidevineL3Phone Android Phone</td>\n",
       "      <td>00:08:43</td>\n",
       "      <td>00:08:43</td>\n",
       "      <td>ET (Ethiopia)</td>\n",
       "    </tr>\n",
       "    <tr>\n",
       "      <th>2</th>\n",
       "      <td>ME</td>\n",
       "      <td>2023-03-12 21:22:01+00:00</td>\n",
       "      <td>0 days 00:21:33</td>\n",
       "      <td>NaN</td>\n",
       "      <td>Friends: Season 2: The One with the Two Partie...</td>\n",
       "      <td>NaN</td>\n",
       "      <td>Android DefaultWidevineL3Phone Android Phone</td>\n",
       "      <td>00:22:43</td>\n",
       "      <td>00:22:43</td>\n",
       "      <td>ET (Ethiopia)</td>\n",
       "    </tr>\n",
       "    <tr>\n",
       "      <th>3</th>\n",
       "      <td>ME</td>\n",
       "      <td>2023-03-12 20:59:11+00:00</td>\n",
       "      <td>0 days 00:22:49</td>\n",
       "      <td>NaN</td>\n",
       "      <td>Friends: Season 2: The One with the Bullies (E...</td>\n",
       "      <td>NaN</td>\n",
       "      <td>Android DefaultWidevineL3Phone Android Phone</td>\n",
       "      <td>00:22:49</td>\n",
       "      <td>00:22:49</td>\n",
       "      <td>ET (Ethiopia)</td>\n",
       "    </tr>\n",
       "    <tr>\n",
       "      <th>4</th>\n",
       "      <td>ME</td>\n",
       "      <td>2023-03-12 20:37:09+00:00</td>\n",
       "      <td>0 days 00:21:55</td>\n",
       "      <td>NaN</td>\n",
       "      <td>Friends: Season 2: The One Where Old Yeller Di...</td>\n",
       "      <td>NaN</td>\n",
       "      <td>Android DefaultWidevineL3Phone Android Phone</td>\n",
       "      <td>00:22:25</td>\n",
       "      <td>00:22:25</td>\n",
       "      <td>ET (Ethiopia)</td>\n",
       "    </tr>\n",
       "    <tr>\n",
       "      <th>...</th>\n",
       "      <td>...</td>\n",
       "      <td>...</td>\n",
       "      <td>...</td>\n",
       "      <td>...</td>\n",
       "      <td>...</td>\n",
       "      <td>...</td>\n",
       "      <td>...</td>\n",
       "      <td>...</td>\n",
       "      <td>...</td>\n",
       "      <td>...</td>\n",
       "    </tr>\n",
       "    <tr>\n",
       "      <th>15946</th>\n",
       "      <td>Zizu</td>\n",
       "      <td>2020-03-08 18:17:17+00:00</td>\n",
       "      <td>0 days 01:17:19</td>\n",
       "      <td>NaN</td>\n",
       "      <td>Toy Boy: Season 1: Pilot (Episode 1)</td>\n",
       "      <td>NaN</td>\n",
       "      <td>DefaultWidevineAndroidPhone</td>\n",
       "      <td>01:17:36</td>\n",
       "      <td>01:17:36</td>\n",
       "      <td>NO (Norway)</td>\n",
       "    </tr>\n",
       "    <tr>\n",
       "      <th>15947</th>\n",
       "      <td>Zizu</td>\n",
       "      <td>2020-03-08 18:14:29+00:00</td>\n",
       "      <td>0 days 00:00:01</td>\n",
       "      <td>NaN</td>\n",
       "      <td>Season 1 Trailer: The Letter For the King</td>\n",
       "      <td>NaN</td>\n",
       "      <td>DefaultWidevineAndroidPhone</td>\n",
       "      <td>00:00:01</td>\n",
       "      <td>00:00:01</td>\n",
       "      <td>NO (Norway)</td>\n",
       "    </tr>\n",
       "    <tr>\n",
       "      <th>15948</th>\n",
       "      <td>Zizu</td>\n",
       "      <td>2020-03-06 22:14:04+00:00</td>\n",
       "      <td>0 days 00:00:07</td>\n",
       "      <td>NaN</td>\n",
       "      <td>I Am Not Okay With This: Season 1: Dear Diary....</td>\n",
       "      <td>NaN</td>\n",
       "      <td>DefaultWidevineAndroidPhone</td>\n",
       "      <td>00:00:07</td>\n",
       "      <td>00:00:07</td>\n",
       "      <td>NO (Norway)</td>\n",
       "    </tr>\n",
       "    <tr>\n",
       "      <th>15949</th>\n",
       "      <td>Zizu</td>\n",
       "      <td>2020-03-05 20:06:48+00:00</td>\n",
       "      <td>0 days 00:54:24</td>\n",
       "      <td>NaN</td>\n",
       "      <td>Love Is Blind: Season 1: The Reunion (Episode 11)</td>\n",
       "      <td>NaN</td>\n",
       "      <td>Netflix Chrome MAC (Cadmium) HTML 5</td>\n",
       "      <td>00:51:45</td>\n",
       "      <td>00:51:45</td>\n",
       "      <td>NO (Norway)</td>\n",
       "    </tr>\n",
       "    <tr>\n",
       "      <th>15950</th>\n",
       "      <td>Zizu</td>\n",
       "      <td>2020-03-05 20:06:15+00:00</td>\n",
       "      <td>0 days 00:00:13</td>\n",
       "      <td>NaN</td>\n",
       "      <td>Love Is Blind: Season 1: Is Love Blind? (Episo...</td>\n",
       "      <td>NaN</td>\n",
       "      <td>Netflix Chrome MAC (Cadmium) HTML 5</td>\n",
       "      <td>00:02:29</td>\n",
       "      <td>Not latest view</td>\n",
       "      <td>NO (Norway)</td>\n",
       "    </tr>\n",
       "  </tbody>\n",
       "</table>\n",
       "<p>13369 rows × 10 columns</p>\n",
       "</div>"
      ],
      "text/plain": [
       "      Profile Name                Start Time        Duration Attributes  \\\n",
       "0               ME 2023-03-12 21:49:14+00:00 0 days 00:16:10        NaN   \n",
       "1               ME 2023-03-12 21:43:36+00:00 0 days 00:05:04        NaN   \n",
       "2               ME 2023-03-12 21:22:01+00:00 0 days 00:21:33        NaN   \n",
       "3               ME 2023-03-12 20:59:11+00:00 0 days 00:22:49        NaN   \n",
       "4               ME 2023-03-12 20:37:09+00:00 0 days 00:21:55        NaN   \n",
       "...            ...                       ...             ...        ...   \n",
       "15946         Zizu 2020-03-08 18:17:17+00:00 0 days 01:17:19        NaN   \n",
       "15947         Zizu 2020-03-08 18:14:29+00:00 0 days 00:00:01        NaN   \n",
       "15948         Zizu 2020-03-06 22:14:04+00:00 0 days 00:00:07        NaN   \n",
       "15949         Zizu 2020-03-05 20:06:48+00:00 0 days 00:54:24        NaN   \n",
       "15950         Zizu 2020-03-05 20:06:15+00:00 0 days 00:00:13        NaN   \n",
       "\n",
       "                                                   Title  \\\n",
       "0                                            Really Love   \n",
       "1      Friends: Season 2: The One with the Chicken Po...   \n",
       "2      Friends: Season 2: The One with the Two Partie...   \n",
       "3      Friends: Season 2: The One with the Bullies (E...   \n",
       "4      Friends: Season 2: The One Where Old Yeller Di...   \n",
       "...                                                  ...   \n",
       "15946               Toy Boy: Season 1: Pilot (Episode 1)   \n",
       "15947          Season 1 Trailer: The Letter For the King   \n",
       "15948  I Am Not Okay With This: Season 1: Dear Diary....   \n",
       "15949  Love Is Blind: Season 1: The Reunion (Episode 11)   \n",
       "15950  Love Is Blind: Season 1: Is Love Blind? (Episo...   \n",
       "\n",
       "      Supplemental Video Type                                   Device Type  \\\n",
       "0                         NaN  Android DefaultWidevineL3Phone Android Phone   \n",
       "1                         NaN  Android DefaultWidevineL3Phone Android Phone   \n",
       "2                         NaN  Android DefaultWidevineL3Phone Android Phone   \n",
       "3                         NaN  Android DefaultWidevineL3Phone Android Phone   \n",
       "4                         NaN  Android DefaultWidevineL3Phone Android Phone   \n",
       "...                       ...                                           ...   \n",
       "15946                     NaN                   DefaultWidevineAndroidPhone   \n",
       "15947                     NaN                   DefaultWidevineAndroidPhone   \n",
       "15948                     NaN                   DefaultWidevineAndroidPhone   \n",
       "15949                     NaN           Netflix Chrome MAC (Cadmium) HTML 5   \n",
       "15950                     NaN           Netflix Chrome MAC (Cadmium) HTML 5   \n",
       "\n",
       "       Bookmark  Latest Bookmark        Country  \n",
       "0      00:38:39         00:38:39  ET (Ethiopia)  \n",
       "1      00:08:43         00:08:43  ET (Ethiopia)  \n",
       "2      00:22:43         00:22:43  ET (Ethiopia)  \n",
       "3      00:22:49         00:22:49  ET (Ethiopia)  \n",
       "4      00:22:25         00:22:25  ET (Ethiopia)  \n",
       "...         ...              ...            ...  \n",
       "15946  01:17:36         01:17:36    NO (Norway)  \n",
       "15947  00:00:01         00:00:01    NO (Norway)  \n",
       "15948  00:00:07         00:00:07    NO (Norway)  \n",
       "15949  00:51:45         00:51:45    NO (Norway)  \n",
       "15950  00:02:29  Not latest view    NO (Norway)  \n",
       "\n",
       "[13369 rows x 10 columns]"
      ]
     },
     "execution_count": 206,
     "metadata": {},
     "output_type": "execute_result"
    }
   ],
   "source": [
    "df.loc[df['Supplemental Video Type'].isnull()]"
   ]
  },
  {
   "cell_type": "code",
   "execution_count": 207,
   "id": "5eb4d15e",
   "metadata": {},
   "outputs": [
    {
     "data": {
      "text/plain": [
       " ME                5340\n",
       "Arsy 😎             5165\n",
       "Zizu               3134\n",
       "Ida og Torstain    1309\n",
       "Enda Endrias       1003\n",
       "Name: Profile Name, dtype: int64"
      ]
     },
     "execution_count": 207,
     "metadata": {},
     "output_type": "execute_result"
    }
   ],
   "source": [
    "df['Profile Name'].value_counts()"
   ]
  },
  {
   "cell_type": "code",
   "execution_count": 208,
   "id": "2b0a28ee",
   "metadata": {},
   "outputs": [
    {
     "data": {
      "text/plain": [
       "Timedelta('0 days 00:16:39.939700374')"
      ]
     },
     "execution_count": 208,
     "metadata": {},
     "output_type": "execute_result"
    }
   ],
   "source": [
    "df.loc[df['Profile Name']==' ME','Duration'].sum()/5340"
   ]
  },
  {
   "cell_type": "code",
   "execution_count": 209,
   "id": "4b5327b1",
   "metadata": {},
   "outputs": [
    {
     "data": {
      "text/plain": [
       "Timedelta('0 days 00:21:17.890222652')"
      ]
     },
     "execution_count": 209,
     "metadata": {},
     "output_type": "execute_result"
    }
   ],
   "source": [
    "df.loc[df['Profile Name']=='Arsy 😎','Duration'].sum()/5165"
   ]
  },
  {
   "cell_type": "code",
   "execution_count": 210,
   "id": "780ab494",
   "metadata": {},
   "outputs": [
    {
     "data": {
      "text/plain": [
       "Timedelta('0 days 00:24:47.137204850')"
      ]
     },
     "execution_count": 210,
     "metadata": {},
     "output_type": "execute_result"
    }
   ],
   "source": [
    "df.loc[df['Profile Name']=='Zizu','Duration'].sum()/3134"
   ]
  },
  {
   "cell_type": "code",
   "execution_count": 211,
   "id": "56185f16",
   "metadata": {},
   "outputs": [
    {
     "data": {
      "text/plain": [
       "Timedelta('0 days 00:28:31.094728800')"
      ]
     },
     "execution_count": 211,
     "metadata": {},
     "output_type": "execute_result"
    }
   ],
   "source": [
    "df.loc[df['Profile Name']=='Ida og Torstain','Duration'].sum()/1309"
   ]
  },
  {
   "cell_type": "code",
   "execution_count": 212,
   "id": "50a23d16",
   "metadata": {},
   "outputs": [
    {
     "data": {
      "text/plain": [
       "Timedelta('0 days 00:21:21.960119641')"
      ]
     },
     "execution_count": 212,
     "metadata": {},
     "output_type": "execute_result"
    }
   ],
   "source": [
    "df.loc[df['Profile Name']=='Enda Endrias ','Duration'].sum()/1003"
   ]
  },
  {
   "cell_type": "markdown",
   "id": "d3e8c2c9",
   "metadata": {},
   "source": [
    "- What devices are used by which Profile? And which device is used the most?"
   ]
  },
  {
   "cell_type": "code",
   "execution_count": 213,
   "id": "0c9cfe13",
   "metadata": {},
   "outputs": [
    {
     "data": {
      "text/plain": [
       "Netflix Windows App - Cadmium Windows Mobile      2499\n",
       "Samsung CE 2020 Kant-S2 UHD TV Smart TV           1647\n",
       "Android DefaultWidevineL3Phone Android Phone      1633\n",
       "LG DTV 2021 MTK LM21A UHD TV Smart TV             1408\n",
       "Netflix Chrome MAC (Cadmium) HTML 5               1377\n",
       "Samsung 2014 MStar DTV                            1373\n",
       "Sony Simple TV 2016 Tan Smart TV                  1145\n",
       "Safari MAC (Cadmium)                               888\n",
       "Samsung CE 2019 Muse-L UHD TV Smart TV             748\n",
       "Apple iPhone XS                                    655\n",
       "Hisense MSD6886 5.1 UHD TV without DV Smart TV     545\n",
       "Apple iPhone X (GSM)                               429\n",
       "DefaultWidevineAndroidPhone                        333\n",
       "Apple iPhone 11 Pro                                326\n",
       "Chrome PC (Cadmium)                                296\n",
       "LG 2017 RTK K3Lp Standard UHD TV Smart TV          112\n",
       "Apple iPhone 13 Pro Max                            104\n",
       "Apple iPhone 14 Pro iPhone                          97\n",
       "DefaultWidevineAndroidTablets                       89\n",
       "Hisense MSD6683 6.0 FHD TV Smart TV                 82\n",
       "Philips 2017 UHD Smart TV w/o DoVi Smart TV         74\n",
       "iPad Mini 2 WiFi                                    68\n",
       "Apple iPhone 13                                     18\n",
       "Apple Apple TV 4 Apple TV                            2\n",
       "Sony PS5                                             2\n",
       "Google Chromecast V5 Streaming Stick                 1\n",
       "Name: Device Type, dtype: int64"
      ]
     },
     "execution_count": 213,
     "metadata": {},
     "output_type": "execute_result"
    }
   ],
   "source": [
    "df['Device Type'].value_counts()"
   ]
  },
  {
   "cell_type": "code",
   "execution_count": 214,
   "id": "1c2dc624",
   "metadata": {},
   "outputs": [
    {
     "data": {
      "image/png": "[encoded data removed]",
      "text/plain": [
       "<Figure size 432x288 with 1 Axes>"
      ]
     },
     "metadata": {
      "needs_background": "light"
     },
     "output_type": "display_data"
    }
   ],
   "source": [
    "df['Device Type'].value_counts().plot(kind='bar')\n",
    "plt.show()"
   ]
  },
  {
   "cell_type": "markdown",
   "id": "4ced3ef9",
   "metadata": {},
   "source": [
    "I want to know more about my own devices, so let us filter them based on Profile ‘Zizu’."
   ]
  },
  {
   "cell_type": "code",
   "execution_count": 215,
   "id": "ae6b2e41",
   "metadata": {},
   "outputs": [],
   "source": [
    "df=df.loc[df['Profile Name'] == 'Zizu']"
   ]
  },
  {
   "cell_type": "code",
   "execution_count": 216,
   "id": "551c71f9",
   "metadata": {},
   "outputs": [
    {
     "data": {
      "text/plain": [
       "Netflix Windows App - Cadmium Windows Mobile      926\n",
       "Safari MAC (Cadmium)                              776\n",
       "Samsung CE 2019 Muse-L UHD TV Smart TV            630\n",
       "LG DTV 2021 MTK LM21A UHD TV Smart TV             142\n",
       "Apple iPhone 11 Pro                               138\n",
       "DefaultWidevineAndroidPhone                       128\n",
       "Apple iPhone 13 Pro Max                            99\n",
       "DefaultWidevineAndroidTablets                      89\n",
       "Samsung CE 2020 Kant-S2 UHD TV Smart TV            66\n",
       "Android DefaultWidevineL3Phone Android Phone       38\n",
       "Chrome PC (Cadmium)                                38\n",
       "Hisense MSD6683 6.0 FHD TV Smart TV                34\n",
       "Apple iPhone 13                                    18\n",
       "Netflix Chrome MAC (Cadmium) HTML 5                 7\n",
       "Sony Simple TV 2016 Tan Smart TV                    3\n",
       "Hisense MSD6886 5.1 UHD TV without DV Smart TV      2\n",
       "Name: Device Type, dtype: int64"
      ]
     },
     "execution_count": 216,
     "metadata": {},
     "output_type": "execute_result"
    }
   ],
   "source": [
    "df['Device Type'].value_counts()"
   ]
  },
  {
   "cell_type": "code",
   "execution_count": 217,
   "id": "6b1e9038",
   "metadata": {},
   "outputs": [
    {
     "data": {
      "image/png": "[encoded data removed]",
      "text/plain": [
       "<Figure size 432x288 with 1 Axes>"
      ]
     },
     "metadata": {
      "needs_background": "light"
     },
     "output_type": "display_data"
    }
   ],
   "source": [
    "df['Device Type'].value_counts().plot(kind='bar')\n",
    "plt.show()"
   ]
  },
  {
   "cell_type": "code",
   "execution_count": 218,
   "id": "af2b764f",
   "metadata": {},
   "outputs": [
    {
     "name": "stdout",
     "output_type": "stream",
     "text": [
      "The most popular/watched title is: Top Boy: Season 2: 15 Points (Episode 5)\n"
     ]
    }
   ],
   "source": [
    "import pandas as pd\n",
    "\n",
    "# assuming your data is stored in a DataFrame called \"df\"\n",
    "# group the data by \"Title\" and count the number of occurrences of each title\n",
    "title_counts = df.groupby('Title').size().sort_values(ascending=False)\n",
    "\n",
    "# get the title with the highest count (i.e., the most popular/watched title)\n",
    "most_popular_title = title_counts.index[0]\n",
    "\n",
    "# print the result\n",
    "print(\"The most popular/watched title is:\", most_popular_title)\n"
   ]
  },
  {
   "cell_type": "code",
   "execution_count": null,
   "id": "852cc436",
   "metadata": {},
   "outputs": [],
   "source": []
  },
  {
   "cell_type": "code",
   "execution_count": null,
   "id": "a27b8245",
   "metadata": {},
   "outputs": [],
   "source": []
  }
 ],
 "metadata": {
  "kernelspec": {
   "display_name": "Python 3 (ipykernel)",
   "language": "python",
   "name": "python3"
  },
  "language_info": {
   "codemirror_mode": {
    "name": "ipython",
    "version": 3
   },
   "file_extension": ".py",
   "mimetype": "text/x-python",
   "name": "python",
   "nbconvert_exporter": "python",
   "pygments_lexer": "ipython3",
   "version": "3.9.12"
  }
 },
 "nbformat": 4,
 "nbformat_minor": 5
}
